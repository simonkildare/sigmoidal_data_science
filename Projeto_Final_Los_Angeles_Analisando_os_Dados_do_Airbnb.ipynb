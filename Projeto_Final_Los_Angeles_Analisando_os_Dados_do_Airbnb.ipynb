{
  "nbformat": 4,
  "nbformat_minor": 0,
  "metadata": {
    "colab": {
      "name": "Projeto Final - Los Angeles - Analisando os Dados do Airbnb.ipynb",
      "provenance": [],
      "collapsed_sections": [],
      "include_colab_link": true
    },
    "kernelspec": {
      "name": "python3",
      "display_name": "Python 3"
    }
  },
  "cells": [
    {
      "cell_type": "markdown",
      "metadata": {
        "id": "view-in-github",
        "colab_type": "text"
      },
      "source": [
        "<a href=\"https://colab.research.google.com/github/simonkildare/sigmoidal_data_science/blob/main/Projeto_Final_Los_Angeles_Analisando_os_Dados_do_Airbnb.ipynb\" target=\"_parent\"><img src=\"https://colab.research.google.com/assets/colab-badge.svg\" alt=\"Open In Colab\"/></a>"
      ]
    },
    {
      "cell_type": "markdown",
      "metadata": {
        "id": "kLI0gJtzDGuQ"
      },
      "source": [
        "<img alt=\"Colaboratory logo\" width=\"15%\" src=\"https://raw.githubusercontent.com/carlosfab/escola-data-science/master/img/novo_logo_bg_claro.png\">\n",
        "\n",
        "#### **Data Science na Prática 3.0**\n",
        "*by [sigmoidal.ai](https://sigmoidal.ai)*\n",
        "\n",
        "---\n",
        "\n",
        "# Análise dos Dados do Airbnb - *Los Angeles*\n",
        "\n",
        "<img alt=\"Los Angeles\" width=\"100%\" src=\"https://www.visiteosusa.com.br/sites/default/files/styles/hero_xl_1600x700/public/images/hero_media_image/2017-01/Getty_515070156_EDITORIALONLY_LosAngeles_HollywoodBlvd_Web72DPI_0.jpg?itok=hxCEUSBf\">\n",
        "\n",
        "\n",
        "O [Airbnb](https://www.airbnb.com.br/) nasceu em 2007, quando dois anfitriões receberam três hóspedes em sua casa em São Francisco. Hoje, a plataforma conta com **4 milhões de anfitriões** que já receberam mais de **1 bilhão de hóspedes** em quase todos os países do mundo. \n",
        "\n",
        "Já é considerado como sendo a **maior empresa hoteleira da atualidade**. Ah, o detalhe é que ele **não possui nenhum hotel**!\n",
        "\n",
        "Conectando pessoas que querem viajar (e se hospedar) com anfitriões que querem alugar seus imóveis de maneira prática, o Airbnb fornece uma plataforma inovadora para tornar essa hospedagem alternativa.\n",
        "\n",
        "Algumas informações básicas sobre o Airbnb:\n",
        "\n",
        "* 6 milhões de anúncios ativos em todo o mundo;\n",
        "\n",
        "* 100 mil cidades e municípios com anúncios ativos no Airbnb;\n",
        "\n",
        "* Mais de 220 países e regiões possuem acomodações do Airbnb;\n",
        "\n",
        "* Mais de US$ 150 bilhões em ganhos para anfitriões;\n",
        "\n",
        "* Mais de US$ 9 mil em ganhos médios anuais por anfitrião nos EUA.\n",
        "\n",
        "\n",
        "Uma das iniciativas do Airbnb é disponibilizar dados do site, para algumas das principais cidades do mundo. Por meio do portal [Inside Airbnb](http://insideairbnb.com/get-the-data.html), é possível baixar uma grande quantidade de dados para desenvolver projetos e soluções de *Data Science*.\n",
        "\n",
        "<center><img alt=\"Analisando Airbnb\" width=\"30%\" src=\"https://www.area360.com.au/wp-content/uploads/2017/09/airbnb-logo.jpg\"></center>\n",
        "\n",
        "**Neste *notebook*, iremos analisar os dados referentes à cidade *Los Angeles*, estado da Califórnia - EUA e ver quais *insights* podem ser extraídos a partir de dados brutos.**\n",
        "\n",
        "\n",
        "\n",
        "       "
      ]
    },
    {
      "cell_type": "markdown",
      "source": [
        "## ***Los Angeles*** - **Califórnia**\n",
        "\n",
        "Quem poderia imaginar que o pequeno povoado de *Nuestra Señora la Reina de Los Angele*s, fundado pelos mexicanos em 1781, se tornaria a segunda cidade mais populosa dos EUA? Los Angeles - ou apenas LA, como chamam os angelinos - tem quase quatro milhões de habitantes. Metade da população é composta por imigrantes de todo o mundo, que vivem em uma das regiões mais multiculturais do país. Com um povo bem moderninho e misturado é que LA cresceu e se tornou um dos mais procurados destinos turísticos dos EUA.\n",
        "\n",
        "Alguns motivos para visitar LA:\n",
        "\n",
        "* Por suas praias. A ensolarada costa da Califórnia conta com um incomparável litoral conhecido por suas belas praias que já apareceram em diversos filmes e séries ao longo da história.\n",
        "\n",
        "* Pelas compras. Los Angeles é um paraíso das compras, já que conta com algumas das zonas de lojas mais exclusivas do mundo, entre as quais se destaca a elegante Rodeo Drive.\n",
        "\n",
        "* Por sua arte. Os interessados no lado cultural da cidade não se decepcionarão, já que Los Angeles oferece centenas de museus e galerias de arte, nas quais seria possível se perder durante vários dias.\n",
        "\n",
        "Viajar a Los Angeles é entrar no lar de algumas das atrações mais emblemáticas e conhecidas do mundo, como é o caso da Calçada da Fama, o Dolby Theatre, onde a cada ano acontece a cerimônia de entrega dos Oscar, ou o famoso Letreiro de Hollywood.\n",
        "\n",
        "Para mais informações turísticas, acesse:\n",
        "        \"[Tudo sobre Los Angeles](https://www.tudosobrelosangeles.com/)\" e [Guia](https://guia.melhoresdestinos.com.br/los-angeles-155-c.html)\""
      ],
      "metadata": {
        "id": "06ft-WgT7nIE"
      }
    },
    {
      "cell_type": "markdown",
      "metadata": {
        "id": "0zxQHhIUDF_2"
      },
      "source": [
        "## Obtenção dos Dados\n",
        "\n",
        "Todos os dados usados aqui foram obtidos a partir do site [Inside Airbnb](http://insideairbnb.com/get-the-data.html).\n",
        "\n",
        "Para esta análise exploratória inicial, será baixado apenas o seguinte arquivo:\n",
        "\n",
        "* `listings.csv` - *Summary information and metrics for listings in Los Angeles (good for visualisations).*\n",
        "\n",
        "Importante: O portal está em constante evolução, e em determinado momento, pode ser que o [conjunto de dados](http://data.insideairbnb.com/united-states/ca/los-angeles/2021-12-05/visualisations/listings.csv) exato utilizado nesse *notebook* não esteja mais disponível, o que quebraria nosso código.\n",
        "\n",
        "\n",
        "Com isso em mente, vamos ao projeto.\n"
      ]
    },
    {
      "cell_type": "code",
      "metadata": {
        "id": "Vhp2wMPgJ6zX"
      },
      "source": [
        "# importar os pacotes necessarios\n",
        "import pandas as pd\n",
        "import matplotlib.pyplot as plt\n",
        "import seaborn as sns\n",
        "\n",
        "%matplotlib inline"
      ],
      "execution_count": null,
      "outputs": []
    },
    {
      "cell_type": "code",
      "metadata": {
        "id": "tUmoAT8DLQ5T"
      },
      "source": [
        "# importar o arquivo listings.csv para um DataFrame\n",
        "df = pd.read_csv(\"http://data.insideairbnb.com/united-states/ca/los-angeles/2021-12-05/visualisations/listings.csv\")"
      ],
      "execution_count": null,
      "outputs": []
    },
    {
      "cell_type": "markdown",
      "metadata": {
        "id": "qb5By2nIMS6m"
      },
      "source": [
        "## Análise dos Dados\n",
        "\n",
        "Esta etapa tem por objetivo criar uma consciência situacional inicial e permitir um entendimento de como os dados estão estruturados."
      ]
    },
    {
      "cell_type": "markdown",
      "metadata": {
        "id": "RYgvuebKNg8-"
      },
      "source": [
        "**Dicionário das variáveis**\n",
        "\n",
        "* `id` - número de id gerado para identificar o imóvel\n",
        "* `name` - nome da propriedade anunciada\n",
        "* `host_id` - número de id do proprietário (anfitrião) da propriedade\n",
        "* `host_name` - Nome do anfitrião\n",
        "* `neighbourhood_group` - esta coluna não contém nenhum valor válido\n",
        "* `neighbourhood` - nome do bairro\n",
        "* `latitude` - coordenada da latitude da propriedade\n",
        "* `longitude` - coordenada da longitude da propriedade\n",
        "* `room_type` - informa o tipo de quarto que é oferecido\n",
        "* `price` - preço para alugar o imóvel\n",
        "* `minimum_nights` - quantidade mínima de noites para reservar\n",
        "* `number_of_reviews` - número de reviews que a propriedade possui\n",
        "* `last_review` - data do último review\n",
        "* `reviews_per_month` - quantidade de reviews por mês\n",
        "* `calculated_host_listings_count` - quantidade de imóveis do mesmo anfitrião\n",
        "* `availability_365` - número de dias de disponibilidade dentro de 365 dias\n",
        "* `number_of_reviews_ltm` - o número de avaliações que a listagem tem (nos últimos 12 meses)\n",
        "* `license` - licença/autorização/número de registro\n",
        "\n",
        "Antes de iniciar qualquer análise, vamos verificar a cara do nosso *dataset*, analisando as 5 primeiras entradas."
      ]
    },
    {
      "cell_type": "code",
      "metadata": {
        "id": "2iS_dae7YQtO",
        "colab": {
          "base_uri": "https://localhost:8080/",
          "height": 496
        },
        "outputId": "87b9b85f-9d1e-4bb7-edc5-247123f6ca54"
      },
      "source": [
        "# mostrar as 5 primeiras entradas\n",
        "df.head()"
      ],
      "execution_count": null,
      "outputs": [
        {
          "output_type": "execute_result",
          "data": {
            "text/plain": [
              "     id                                               name  host_id  \\\n",
              "0   109  Amazing bright elegant condo park front *UPGRA...      521   \n",
              "1  2708  Runyon Canyon | Beau Furn Mirror Mini-Suite Fi...     3008   \n",
              "2  2732                              Zen Life at the Beach     3041   \n",
              "3  2864             * Beautiful Master Suite/Jacuzzi Tub/*     3207   \n",
              "4  3021    Hollywood Hills Zen Modern style Apt/Guesthouse     3415   \n",
              "\n",
              "        host_name  neighbourhood_group         neighbourhood  latitude  \\\n",
              "0           Paolo         Other Cities           Culver City  33.98301   \n",
              "1           Chas.  City of Los Angeles             Hollywood  34.09625   \n",
              "2  Yoga Priestess         Other Cities          Santa Monica  34.00440   \n",
              "3       Bernadine         Other Cities            Bellflower  33.87490   \n",
              "4         Nataraj  City of Los Angeles  Hollywood Hills West  34.11160   \n",
              "\n",
              "   longitude        room_type  price  minimum_nights  number_of_reviews  \\\n",
              "0 -118.38607  Entire home/apt    115              30                  2   \n",
              "1 -118.34605     Private room     89              30                 33   \n",
              "2 -118.48095     Private room    167               7                 21   \n",
              "3 -118.11515  Entire home/apt     50              30                  0   \n",
              "4 -118.38223  Entire home/apt    118              31                 23   \n",
              "\n",
              "  last_review  reviews_per_month  calculated_host_listings_count  \\\n",
              "0  2016-05-15               0.02                               1   \n",
              "1  2021-11-01               0.69                               3   \n",
              "2  2019-12-27               0.35                               2   \n",
              "3         NaN                NaN                               1   \n",
              "4  2018-10-31               0.23                               4   \n",
              "\n",
              "   availability_365  number_of_reviews_ltm license  \n",
              "0               226                      0     NaN  \n",
              "1               327                      5     NaN  \n",
              "2               359                      0  228269  \n",
              "3                 0                      0     NaN  \n",
              "4               308                      0     NaN  "
            ],
            "text/html": [
              "\n",
              "  <div id=\"df-3f8a90b1-c05f-4a4b-baa3-90cc2eb59db6\">\n",
              "    <div class=\"colab-df-container\">\n",
              "      <div>\n",
              "<style scoped>\n",
              "    .dataframe tbody tr th:only-of-type {\n",
              "        vertical-align: middle;\n",
              "    }\n",
              "\n",
              "    .dataframe tbody tr th {\n",
              "        vertical-align: top;\n",
              "    }\n",
              "\n",
              "    .dataframe thead th {\n",
              "        text-align: right;\n",
              "    }\n",
              "</style>\n",
              "<table border=\"1\" class=\"dataframe\">\n",
              "  <thead>\n",
              "    <tr style=\"text-align: right;\">\n",
              "      <th></th>\n",
              "      <th>id</th>\n",
              "      <th>name</th>\n",
              "      <th>host_id</th>\n",
              "      <th>host_name</th>\n",
              "      <th>neighbourhood_group</th>\n",
              "      <th>neighbourhood</th>\n",
              "      <th>latitude</th>\n",
              "      <th>longitude</th>\n",
              "      <th>room_type</th>\n",
              "      <th>price</th>\n",
              "      <th>minimum_nights</th>\n",
              "      <th>number_of_reviews</th>\n",
              "      <th>last_review</th>\n",
              "      <th>reviews_per_month</th>\n",
              "      <th>calculated_host_listings_count</th>\n",
              "      <th>availability_365</th>\n",
              "      <th>number_of_reviews_ltm</th>\n",
              "      <th>license</th>\n",
              "    </tr>\n",
              "  </thead>\n",
              "  <tbody>\n",
              "    <tr>\n",
              "      <th>0</th>\n",
              "      <td>109</td>\n",
              "      <td>Amazing bright elegant condo park front *UPGRA...</td>\n",
              "      <td>521</td>\n",
              "      <td>Paolo</td>\n",
              "      <td>Other Cities</td>\n",
              "      <td>Culver City</td>\n",
              "      <td>33.98301</td>\n",
              "      <td>-118.38607</td>\n",
              "      <td>Entire home/apt</td>\n",
              "      <td>115</td>\n",
              "      <td>30</td>\n",
              "      <td>2</td>\n",
              "      <td>2016-05-15</td>\n",
              "      <td>0.02</td>\n",
              "      <td>1</td>\n",
              "      <td>226</td>\n",
              "      <td>0</td>\n",
              "      <td>NaN</td>\n",
              "    </tr>\n",
              "    <tr>\n",
              "      <th>1</th>\n",
              "      <td>2708</td>\n",
              "      <td>Runyon Canyon | Beau Furn Mirror Mini-Suite Fi...</td>\n",
              "      <td>3008</td>\n",
              "      <td>Chas.</td>\n",
              "      <td>City of Los Angeles</td>\n",
              "      <td>Hollywood</td>\n",
              "      <td>34.09625</td>\n",
              "      <td>-118.34605</td>\n",
              "      <td>Private room</td>\n",
              "      <td>89</td>\n",
              "      <td>30</td>\n",
              "      <td>33</td>\n",
              "      <td>2021-11-01</td>\n",
              "      <td>0.69</td>\n",
              "      <td>3</td>\n",
              "      <td>327</td>\n",
              "      <td>5</td>\n",
              "      <td>NaN</td>\n",
              "    </tr>\n",
              "    <tr>\n",
              "      <th>2</th>\n",
              "      <td>2732</td>\n",
              "      <td>Zen Life at the Beach</td>\n",
              "      <td>3041</td>\n",
              "      <td>Yoga Priestess</td>\n",
              "      <td>Other Cities</td>\n",
              "      <td>Santa Monica</td>\n",
              "      <td>34.00440</td>\n",
              "      <td>-118.48095</td>\n",
              "      <td>Private room</td>\n",
              "      <td>167</td>\n",
              "      <td>7</td>\n",
              "      <td>21</td>\n",
              "      <td>2019-12-27</td>\n",
              "      <td>0.35</td>\n",
              "      <td>2</td>\n",
              "      <td>359</td>\n",
              "      <td>0</td>\n",
              "      <td>228269</td>\n",
              "    </tr>\n",
              "    <tr>\n",
              "      <th>3</th>\n",
              "      <td>2864</td>\n",
              "      <td>* Beautiful Master Suite/Jacuzzi Tub/*</td>\n",
              "      <td>3207</td>\n",
              "      <td>Bernadine</td>\n",
              "      <td>Other Cities</td>\n",
              "      <td>Bellflower</td>\n",
              "      <td>33.87490</td>\n",
              "      <td>-118.11515</td>\n",
              "      <td>Entire home/apt</td>\n",
              "      <td>50</td>\n",
              "      <td>30</td>\n",
              "      <td>0</td>\n",
              "      <td>NaN</td>\n",
              "      <td>NaN</td>\n",
              "      <td>1</td>\n",
              "      <td>0</td>\n",
              "      <td>0</td>\n",
              "      <td>NaN</td>\n",
              "    </tr>\n",
              "    <tr>\n",
              "      <th>4</th>\n",
              "      <td>3021</td>\n",
              "      <td>Hollywood Hills Zen Modern style Apt/Guesthouse</td>\n",
              "      <td>3415</td>\n",
              "      <td>Nataraj</td>\n",
              "      <td>City of Los Angeles</td>\n",
              "      <td>Hollywood Hills West</td>\n",
              "      <td>34.11160</td>\n",
              "      <td>-118.38223</td>\n",
              "      <td>Entire home/apt</td>\n",
              "      <td>118</td>\n",
              "      <td>31</td>\n",
              "      <td>23</td>\n",
              "      <td>2018-10-31</td>\n",
              "      <td>0.23</td>\n",
              "      <td>4</td>\n",
              "      <td>308</td>\n",
              "      <td>0</td>\n",
              "      <td>NaN</td>\n",
              "    </tr>\n",
              "  </tbody>\n",
              "</table>\n",
              "</div>\n",
              "      <button class=\"colab-df-convert\" onclick=\"convertToInteractive('df-3f8a90b1-c05f-4a4b-baa3-90cc2eb59db6')\"\n",
              "              title=\"Convert this dataframe to an interactive table.\"\n",
              "              style=\"display:none;\">\n",
              "        \n",
              "  <svg xmlns=\"http://www.w3.org/2000/svg\" height=\"24px\"viewBox=\"0 0 24 24\"\n",
              "       width=\"24px\">\n",
              "    <path d=\"M0 0h24v24H0V0z\" fill=\"none\"/>\n",
              "    <path d=\"M18.56 5.44l.94 2.06.94-2.06 2.06-.94-2.06-.94-.94-2.06-.94 2.06-2.06.94zm-11 1L8.5 8.5l.94-2.06 2.06-.94-2.06-.94L8.5 2.5l-.94 2.06-2.06.94zm10 10l.94 2.06.94-2.06 2.06-.94-2.06-.94-.94-2.06-.94 2.06-2.06.94z\"/><path d=\"M17.41 7.96l-1.37-1.37c-.4-.4-.92-.59-1.43-.59-.52 0-1.04.2-1.43.59L10.3 9.45l-7.72 7.72c-.78.78-.78 2.05 0 2.83L4 21.41c.39.39.9.59 1.41.59.51 0 1.02-.2 1.41-.59l7.78-7.78 2.81-2.81c.8-.78.8-2.07 0-2.86zM5.41 20L4 18.59l7.72-7.72 1.47 1.35L5.41 20z\"/>\n",
              "  </svg>\n",
              "      </button>\n",
              "      \n",
              "  <style>\n",
              "    .colab-df-container {\n",
              "      display:flex;\n",
              "      flex-wrap:wrap;\n",
              "      gap: 12px;\n",
              "    }\n",
              "\n",
              "    .colab-df-convert {\n",
              "      background-color: #E8F0FE;\n",
              "      border: none;\n",
              "      border-radius: 50%;\n",
              "      cursor: pointer;\n",
              "      display: none;\n",
              "      fill: #1967D2;\n",
              "      height: 32px;\n",
              "      padding: 0 0 0 0;\n",
              "      width: 32px;\n",
              "    }\n",
              "\n",
              "    .colab-df-convert:hover {\n",
              "      background-color: #E2EBFA;\n",
              "      box-shadow: 0px 1px 2px rgba(60, 64, 67, 0.3), 0px 1px 3px 1px rgba(60, 64, 67, 0.15);\n",
              "      fill: #174EA6;\n",
              "    }\n",
              "\n",
              "    [theme=dark] .colab-df-convert {\n",
              "      background-color: #3B4455;\n",
              "      fill: #D2E3FC;\n",
              "    }\n",
              "\n",
              "    [theme=dark] .colab-df-convert:hover {\n",
              "      background-color: #434B5C;\n",
              "      box-shadow: 0px 1px 3px 1px rgba(0, 0, 0, 0.15);\n",
              "      filter: drop-shadow(0px 1px 2px rgba(0, 0, 0, 0.3));\n",
              "      fill: #FFFFFF;\n",
              "    }\n",
              "  </style>\n",
              "\n",
              "      <script>\n",
              "        const buttonEl =\n",
              "          document.querySelector('#df-3f8a90b1-c05f-4a4b-baa3-90cc2eb59db6 button.colab-df-convert');\n",
              "        buttonEl.style.display =\n",
              "          google.colab.kernel.accessAllowed ? 'block' : 'none';\n",
              "\n",
              "        async function convertToInteractive(key) {\n",
              "          const element = document.querySelector('#df-3f8a90b1-c05f-4a4b-baa3-90cc2eb59db6');\n",
              "          const dataTable =\n",
              "            await google.colab.kernel.invokeFunction('convertToInteractive',\n",
              "                                                     [key], {});\n",
              "          if (!dataTable) return;\n",
              "\n",
              "          const docLinkHtml = 'Like what you see? Visit the ' +\n",
              "            '<a target=\"_blank\" href=https://colab.research.google.com/notebooks/data_table.ipynb>data table notebook</a>'\n",
              "            + ' to learn more about interactive tables.';\n",
              "          element.innerHTML = '';\n",
              "          dataTable['output_type'] = 'display_data';\n",
              "          await google.colab.output.renderOutput(dataTable, element);\n",
              "          const docLink = document.createElement('div');\n",
              "          docLink.innerHTML = docLinkHtml;\n",
              "          element.appendChild(docLink);\n",
              "        }\n",
              "      </script>\n",
              "    </div>\n",
              "  </div>\n",
              "  "
            ]
          },
          "metadata": {},
          "execution_count": 15
        }
      ]
    },
    {
      "cell_type": "markdown",
      "metadata": {
        "id": "6-B_qtEaYEd-"
      },
      "source": [
        "### **Q1. Quantos atributos (variáveis) e quantas entradas o nosso conjunto de dados possui? Quais os tipos das variáveis?**"
      ]
    },
    {
      "cell_type": "code",
      "metadata": {
        "id": "TFRK0tniLV-G",
        "colab": {
          "base_uri": "https://localhost:8080/",
          "height": 416
        },
        "outputId": "ff1953a6-f6ab-451d-8467-ad8e299923b6"
      },
      "source": [
        "# identificar o volume de dados do DataFrame\n",
        "print('Dimensões do Dataset',\n",
        "    '\\nVariáveis: ',df.shape[1], \"\\n\"\n",
        "      'Entradas: ', df.shape[0], \"\\n\")\n",
        "# verificar as 5 primeiras entradas do dataset\n",
        "display(df.dtypes)"
      ],
      "execution_count": null,
      "outputs": [
        {
          "output_type": "stream",
          "name": "stdout",
          "text": [
            "Dimensões do Dataset \n",
            "Variáveis:  18 \n",
            "Entradas:  33329 \n",
            "\n"
          ]
        },
        {
          "output_type": "display_data",
          "data": {
            "text/plain": [
              "id                                  int64\n",
              "name                               object\n",
              "host_id                             int64\n",
              "host_name                          object\n",
              "neighbourhood_group                object\n",
              "neighbourhood                      object\n",
              "latitude                          float64\n",
              "longitude                         float64\n",
              "room_type                          object\n",
              "price                               int64\n",
              "minimum_nights                      int64\n",
              "number_of_reviews                   int64\n",
              "last_review                        object\n",
              "reviews_per_month                 float64\n",
              "calculated_host_listings_count      int64\n",
              "availability_365                    int64\n",
              "number_of_reviews_ltm               int64\n",
              "license                            object\n",
              "dtype: object"
            ]
          },
          "metadata": {}
        }
      ]
    },
    {
      "cell_type": "markdown",
      "metadata": {
        "id": "yz1urSUGW9iE"
      },
      "source": [
        "### **Q2. Qual a porcentagem de valores ausentes no *dataset*?**\n",
        "\n",
        "A qualidade de um *dataset* está diretamente relacionada à quantidade de valores ausentes. É importante entender logo no início se esses valores nulos são significativos comparados ao total de entradas.\n",
        "\n",
        "* É possível ver que a coluna `license ` possui quase 75% dos seus valores faltantes. \n",
        "* As variáveis `reviews_per_month` e `last_review` possuem valores nulos em quase 25% das linhas.\n",
        "* As variáveis `name` e `host_name` têm aproximadamente 0,006% e 0,02%, respectivamente, dos valores nulos."
      ]
    },
    {
      "cell_type": "code",
      "metadata": {
        "id": "plk2FjbCXOqP",
        "colab": {
          "base_uri": "https://localhost:8080/"
        },
        "outputId": "3a6a5edf-f714-4c90-e42f-68f6ae62d590"
      },
      "source": [
        "# ordenar em ordem decrescente as variáveis por seus valores ausentes\n",
        "(df.isnull().sum() / df.shape[0]).sort_values(ascending=False)"
      ],
      "execution_count": null,
      "outputs": [
        {
          "output_type": "execute_result",
          "data": {
            "text/plain": [
              "license                           0.747847\n",
              "reviews_per_month                 0.240331\n",
              "last_review                       0.240331\n",
              "host_name                         0.000210\n",
              "name                              0.000060\n",
              "minimum_nights                    0.000000\n",
              "number_of_reviews_ltm             0.000000\n",
              "availability_365                  0.000000\n",
              "calculated_host_listings_count    0.000000\n",
              "number_of_reviews                 0.000000\n",
              "id                                0.000000\n",
              "room_type                         0.000000\n",
              "longitude                         0.000000\n",
              "latitude                          0.000000\n",
              "neighbourhood                     0.000000\n",
              "neighbourhood_group               0.000000\n",
              "host_id                           0.000000\n",
              "price                             0.000000\n",
              "dtype: float64"
            ]
          },
          "metadata": {},
          "execution_count": 17
        }
      ]
    },
    {
      "cell_type": "markdown",
      "metadata": {
        "id": "iHXvvHIxaoNc"
      },
      "source": [
        "### **Q3. Qual o tipo de distribuição das variáveis?** \n",
        "\n",
        "Para identificar a distribuição das variáveis, irei plotar o histograma."
      ]
    },
    {
      "cell_type": "code",
      "metadata": {
        "id": "q2wWSfeRbmBo",
        "colab": {
          "base_uri": "https://localhost:8080/",
          "height": 879
        },
        "outputId": "b58c135c-b2c4-4b26-8cdf-479a9eff7c1c"
      },
      "source": [
        "# plotar o histograma das variáveis numéricas\n",
        "df.hist(bins=20, figsize=(20,15));"
      ],
      "execution_count": null,
      "outputs": [
        {
          "output_type": "display_data",
          "data": {
            "text/plain": [
              "<Figure size 1440x1080 with 12 Axes>"
            ],
            "image/png": "[encoded data removed]"
          },
          "metadata": {
            "needs_background": "light"
          }
        }
      ]
    },
    {
      "cell_type": "markdown",
      "metadata": {
        "id": "7x4aw1j5wNmn"
      },
      "source": [
        "### **Q4. Qual a média dos preços de aluguel?**\n",
        "\n",
        "Pela distribuição do histograma, é possível verificar indícios da presença de *outliers*. \n",
        "\n",
        "Para confirmar, há duas maneiras rápidas que auxiliam a detecção de *outliers*. São elas:\n",
        "\n",
        "* Resumo estatístico por meio do método `describe()`\n",
        "* Plotar `boxplots` para a variável."
      ]
    },
    {
      "cell_type": "code",
      "metadata": {
        "id": "ff-8gUahLk-C",
        "colab": {
          "base_uri": "https://localhost:8080/",
          "height": 300
        },
        "outputId": "c9b7ca89-51d3-4a3d-ec5d-1db2c98b0d4b"
      },
      "source": [
        "# ver a média da coluna `price``\n",
        "df[['price']].describe()"
      ],
      "execution_count": null,
      "outputs": [
        {
          "output_type": "execute_result",
          "data": {
            "text/plain": [
              "              price\n",
              "count  33329.000000\n",
              "mean     262.710792\n",
              "std      726.306533\n",
              "min        0.000000\n",
              "25%       79.000000\n",
              "50%      125.000000\n",
              "75%      225.000000\n",
              "max    25000.000000"
            ],
            "text/html": [
              "\n",
              "  <div id=\"df-b2034f06-0b78-4e05-ae1a-80b1208d2498\">\n",
              "    <div class=\"colab-df-container\">\n",
              "      <div>\n",
              "<style scoped>\n",
              "    .dataframe tbody tr th:only-of-type {\n",
              "        vertical-align: middle;\n",
              "    }\n",
              "\n",
              "    .dataframe tbody tr th {\n",
              "        vertical-align: top;\n",
              "    }\n",
              "\n",
              "    .dataframe thead th {\n",
              "        text-align: right;\n",
              "    }\n",
              "</style>\n",
              "<table border=\"1\" class=\"dataframe\">\n",
              "  <thead>\n",
              "    <tr style=\"text-align: right;\">\n",
              "      <th></th>\n",
              "      <th>price</th>\n",
              "    </tr>\n",
              "  </thead>\n",
              "  <tbody>\n",
              "    <tr>\n",
              "      <th>count</th>\n",
              "      <td>33329.000000</td>\n",
              "    </tr>\n",
              "    <tr>\n",
              "      <th>mean</th>\n",
              "      <td>262.710792</td>\n",
              "    </tr>\n",
              "    <tr>\n",
              "      <th>std</th>\n",
              "      <td>726.306533</td>\n",
              "    </tr>\n",
              "    <tr>\n",
              "      <th>min</th>\n",
              "      <td>0.000000</td>\n",
              "    </tr>\n",
              "    <tr>\n",
              "      <th>25%</th>\n",
              "      <td>79.000000</td>\n",
              "    </tr>\n",
              "    <tr>\n",
              "      <th>50%</th>\n",
              "      <td>125.000000</td>\n",
              "    </tr>\n",
              "    <tr>\n",
              "      <th>75%</th>\n",
              "      <td>225.000000</td>\n",
              "    </tr>\n",
              "    <tr>\n",
              "      <th>max</th>\n",
              "      <td>25000.000000</td>\n",
              "    </tr>\n",
              "  </tbody>\n",
              "</table>\n",
              "</div>\n",
              "      <button class=\"colab-df-convert\" onclick=\"convertToInteractive('df-b2034f06-0b78-4e05-ae1a-80b1208d2498')\"\n",
              "              title=\"Convert this dataframe to an interactive table.\"\n",
              "              style=\"display:none;\">\n",
              "        \n",
              "  <svg xmlns=\"http://www.w3.org/2000/svg\" height=\"24px\"viewBox=\"0 0 24 24\"\n",
              "       width=\"24px\">\n",
              "    <path d=\"M0 0h24v24H0V0z\" fill=\"none\"/>\n",
              "    <path d=\"M18.56 5.44l.94 2.06.94-2.06 2.06-.94-2.06-.94-.94-2.06-.94 2.06-2.06.94zm-11 1L8.5 8.5l.94-2.06 2.06-.94-2.06-.94L8.5 2.5l-.94 2.06-2.06.94zm10 10l.94 2.06.94-2.06 2.06-.94-2.06-.94-.94-2.06-.94 2.06-2.06.94z\"/><path d=\"M17.41 7.96l-1.37-1.37c-.4-.4-.92-.59-1.43-.59-.52 0-1.04.2-1.43.59L10.3 9.45l-7.72 7.72c-.78.78-.78 2.05 0 2.83L4 21.41c.39.39.9.59 1.41.59.51 0 1.02-.2 1.41-.59l7.78-7.78 2.81-2.81c.8-.78.8-2.07 0-2.86zM5.41 20L4 18.59l7.72-7.72 1.47 1.35L5.41 20z\"/>\n",
              "  </svg>\n",
              "      </button>\n",
              "      \n",
              "  <style>\n",
              "    .colab-df-container {\n",
              "      display:flex;\n",
              "      flex-wrap:wrap;\n",
              "      gap: 12px;\n",
              "    }\n",
              "\n",
              "    .colab-df-convert {\n",
              "      background-color: #E8F0FE;\n",
              "      border: none;\n",
              "      border-radius: 50%;\n",
              "      cursor: pointer;\n",
              "      display: none;\n",
              "      fill: #1967D2;\n",
              "      height: 32px;\n",
              "      padding: 0 0 0 0;\n",
              "      width: 32px;\n",
              "    }\n",
              "\n",
              "    .colab-df-convert:hover {\n",
              "      background-color: #E2EBFA;\n",
              "      box-shadow: 0px 1px 2px rgba(60, 64, 67, 0.3), 0px 1px 3px 1px rgba(60, 64, 67, 0.15);\n",
              "      fill: #174EA6;\n",
              "    }\n",
              "\n",
              "    [theme=dark] .colab-df-convert {\n",
              "      background-color: #3B4455;\n",
              "      fill: #D2E3FC;\n",
              "    }\n",
              "\n",
              "    [theme=dark] .colab-df-convert:hover {\n",
              "      background-color: #434B5C;\n",
              "      box-shadow: 0px 1px 3px 1px rgba(0, 0, 0, 0.15);\n",
              "      filter: drop-shadow(0px 1px 2px rgba(0, 0, 0, 0.3));\n",
              "      fill: #FFFFFF;\n",
              "    }\n",
              "  </style>\n",
              "\n",
              "      <script>\n",
              "        const buttonEl =\n",
              "          document.querySelector('#df-b2034f06-0b78-4e05-ae1a-80b1208d2498 button.colab-df-convert');\n",
              "        buttonEl.style.display =\n",
              "          google.colab.kernel.accessAllowed ? 'block' : 'none';\n",
              "\n",
              "        async function convertToInteractive(key) {\n",
              "          const element = document.querySelector('#df-b2034f06-0b78-4e05-ae1a-80b1208d2498');\n",
              "          const dataTable =\n",
              "            await google.colab.kernel.invokeFunction('convertToInteractive',\n",
              "                                                     [key], {});\n",
              "          if (!dataTable) return;\n",
              "\n",
              "          const docLinkHtml = 'Like what you see? Visit the ' +\n",
              "            '<a target=\"_blank\" href=https://colab.research.google.com/notebooks/data_table.ipynb>data table notebook</a>'\n",
              "            + ' to learn more about interactive tables.';\n",
              "          element.innerHTML = '';\n",
              "          dataTable['output_type'] = 'display_data';\n",
              "          await google.colab.output.renderOutput(dataTable, element);\n",
              "          const docLink = document.createElement('div');\n",
              "          docLink.innerHTML = docLinkHtml;\n",
              "          element.appendChild(docLink);\n",
              "        }\n",
              "      </script>\n",
              "    </div>\n",
              "  </div>\n",
              "  "
            ]
          },
          "metadata": {},
          "execution_count": 19
        }
      ]
    },
    {
      "cell_type": "markdown",
      "source": [
        "Olhando o resumo estatístico acima, podemos confirmar algumas hipóteses como:\n",
        "\n",
        "* A variável `price` possui 75% do valor abaixo de 225, porém seu valor máximo é 25000.\n",
        "* A média da coluna `price` é 262.\n",
        "\n",
        "\n",
        "#### Boxplot para price"
      ],
      "metadata": {
        "id": "aqLBfMMmIV1i"
      }
    },
    {
      "cell_type": "code",
      "source": [
        "# price\n",
        "df.price.plot(kind='box', vert=False, figsize=(15, 3),)\n",
        "plt.show()\n",
        "\n",
        "# ver quantidade de valores acima de 2500 para price\n",
        "print(\"\\nprice: valores acima de 2500\")\n",
        "print(\"{} entradas\".format(len(df[df.price > 2500])))\n",
        "print(\"{:.4f}%\".format((len(df[df.price > 2500]) / df.shape[0])*100))\n",
        "\n",
        "# df.price.plot(kind='box', vert=False, xlim=(0,1300), figsize=(15,3));"
      ],
      "metadata": {
        "colab": {
          "base_uri": "https://localhost:8080/",
          "height": 280
        },
        "id": "IM_cCWW5J8oJ",
        "outputId": "b2b9472a-05b3-4423-e1f3-bdcd2e0cc6d5"
      },
      "execution_count": null,
      "outputs": [
        {
          "output_type": "display_data",
          "data": {
            "text/plain": [
              "<Figure size 1080x216 with 1 Axes>"
            ],
            "image/png": "[encoded data removed]"
          },
          "metadata": {
            "needs_background": "light"
          }
        },
        {
          "output_type": "stream",
          "name": "stdout",
          "text": [
            "\n",
            "price: valores acima de 2500\n",
            "339 entradas\n",
            "1.0171%\n"
          ]
        }
      ]
    },
    {
      "cell_type": "markdown",
      "source": [
        "#### Histogramas sem *outliers*\n",
        "\n",
        "Já que identificamos *outliers* na variável `price`, vamos agora limpar o *DataFrame* dela e plotar novamente o histograma."
      ],
      "metadata": {
        "id": "MjhxLiRGN5Du"
      }
    },
    {
      "cell_type": "code",
      "source": [
        "# remover os *outliers* em um novo DataFrame\n",
        "df_clean = df.copy()\n",
        "df_clean.drop(df_clean[df_clean.price > 2500].index, axis=0, inplace=True)\n",
        "\n",
        "# plotar o histograma para as variáveis numéricas\n",
        "df_clean.hist(bins=20, figsize=(20,15));"
      ],
      "metadata": {
        "colab": {
          "base_uri": "https://localhost:8080/",
          "height": 879
        },
        "id": "9Dur-7LROrzL",
        "outputId": "f8f5e61a-c523-49cf-abf5-24462bbfea55"
      },
      "execution_count": null,
      "outputs": [
        {
          "output_type": "display_data",
          "data": {
            "text/plain": [
              "<Figure size 1440x1080 with 12 Axes>"
            ],
            "image/png": "[encoded data removed]"
          },
          "metadata": {
            "needs_background": "light"
          }
        }
      ]
    },
    {
      "cell_type": "code",
      "source": [
        "df_clean['price'].describe()"
      ],
      "metadata": {
        "colab": {
          "base_uri": "https://localhost:8080/"
        },
        "id": "2YoliLzj7F5A",
        "outputId": "f8d13cfa-a523-41fc-a651-030484b51ff0"
      },
      "execution_count": null,
      "outputs": [
        {
          "output_type": "execute_result",
          "data": {
            "text/plain": [
              "count    32990.000000\n",
              "mean       207.560655\n",
              "std        273.031780\n",
              "min          0.000000\n",
              "25%         79.000000\n",
              "50%        125.000000\n",
              "75%        220.000000\n",
              "max       2500.000000\n",
              "Name: price, dtype: float64"
            ]
          },
          "metadata": {},
          "execution_count": 22
        }
      ]
    },
    {
      "cell_type": "markdown",
      "metadata": {
        "id": "IXn2oIo5qx-w"
      },
      "source": [
        "### **Q5. Qual a correlação existente entre as variáveis**\n",
        "\n",
        "Correlação significa que existe uma relação entre duas coisas. No nosso contexto, estamos buscando relação ou semelhança entre duas variáveis.\n",
        "\n",
        "Essa relação pode ser medida, e é função do coeficiente de correlação estabelecer qual a intensidade dela. Para identificar as correlações existentes entre as variáveis de interesse, vou:\n",
        "\n",
        "* Criar uma matriz de correlação\n",
        "* Gerar um *heatmap* a partir dessa matriz, usando a biblioteca `seaborn`"
      ]
    },
    {
      "cell_type": "code",
      "metadata": {
        "id": "x2ayzBajqxyd",
        "colab": {
          "base_uri": "https://localhost:8080/",
          "height": 238
        },
        "outputId": "3858c919-a6eb-4eea-f1d6-99b917621dae"
      },
      "source": [
        "# criar uma matriz de correlação\n",
        "corr = df_clean[['price', 'minimum_nights', 'number_of_reviews', 'reviews_per_month',\n",
        "    'calculated_host_listings_count', 'availability_365']].corr()\n",
        "# mostrar a matriz de correlação\n",
        "display(corr)"
      ],
      "execution_count": null,
      "outputs": [
        {
          "output_type": "display_data",
          "data": {
            "text/plain": [
              "                                   price  minimum_nights  number_of_reviews  \\\n",
              "price                           1.000000       -0.027383          -0.071399   \n",
              "minimum_nights                 -0.027383        1.000000          -0.107457   \n",
              "number_of_reviews              -0.071399       -0.107457           1.000000   \n",
              "reviews_per_month               0.000877       -0.116029           0.290359   \n",
              "calculated_host_listings_count -0.008449        0.058397          -0.117645   \n",
              "availability_365                0.113317        0.038751          -0.010188   \n",
              "\n",
              "                                reviews_per_month  \\\n",
              "price                                    0.000877   \n",
              "minimum_nights                          -0.116029   \n",
              "number_of_reviews                        0.290359   \n",
              "reviews_per_month                        1.000000   \n",
              "calculated_host_listings_count          -0.048937   \n",
              "availability_365                         0.018164   \n",
              "\n",
              "                                calculated_host_listings_count  \\\n",
              "price                                                -0.008449   \n",
              "minimum_nights                                        0.058397   \n",
              "number_of_reviews                                    -0.117645   \n",
              "reviews_per_month                                    -0.048937   \n",
              "calculated_host_listings_count                        1.000000   \n",
              "availability_365                                      0.213899   \n",
              "\n",
              "                                availability_365  \n",
              "price                                   0.113317  \n",
              "minimum_nights                          0.038751  \n",
              "number_of_reviews                      -0.010188  \n",
              "reviews_per_month                       0.018164  \n",
              "calculated_host_listings_count          0.213899  \n",
              "availability_365                        1.000000  "
            ],
            "text/html": [
              "\n",
              "  <div id=\"df-3ab0acfe-6171-40ce-b4fe-62d5e4d556b1\">\n",
              "    <div class=\"colab-df-container\">\n",
              "      <div>\n",
              "<style scoped>\n",
              "    .dataframe tbody tr th:only-of-type {\n",
              "        vertical-align: middle;\n",
              "    }\n",
              "\n",
              "    .dataframe tbody tr th {\n",
              "        vertical-align: top;\n",
              "    }\n",
              "\n",
              "    .dataframe thead th {\n",
              "        text-align: right;\n",
              "    }\n",
              "</style>\n",
              "<table border=\"1\" class=\"dataframe\">\n",
              "  <thead>\n",
              "    <tr style=\"text-align: right;\">\n",
              "      <th></th>\n",
              "      <th>price</th>\n",
              "      <th>minimum_nights</th>\n",
              "      <th>number_of_reviews</th>\n",
              "      <th>reviews_per_month</th>\n",
              "      <th>calculated_host_listings_count</th>\n",
              "      <th>availability_365</th>\n",
              "    </tr>\n",
              "  </thead>\n",
              "  <tbody>\n",
              "    <tr>\n",
              "      <th>price</th>\n",
              "      <td>1.000000</td>\n",
              "      <td>-0.027383</td>\n",
              "      <td>-0.071399</td>\n",
              "      <td>0.000877</td>\n",
              "      <td>-0.008449</td>\n",
              "      <td>0.113317</td>\n",
              "    </tr>\n",
              "    <tr>\n",
              "      <th>minimum_nights</th>\n",
              "      <td>-0.027383</td>\n",
              "      <td>1.000000</td>\n",
              "      <td>-0.107457</td>\n",
              "      <td>-0.116029</td>\n",
              "      <td>0.058397</td>\n",
              "      <td>0.038751</td>\n",
              "    </tr>\n",
              "    <tr>\n",
              "      <th>number_of_reviews</th>\n",
              "      <td>-0.071399</td>\n",
              "      <td>-0.107457</td>\n",
              "      <td>1.000000</td>\n",
              "      <td>0.290359</td>\n",
              "      <td>-0.117645</td>\n",
              "      <td>-0.010188</td>\n",
              "    </tr>\n",
              "    <tr>\n",
              "      <th>reviews_per_month</th>\n",
              "      <td>0.000877</td>\n",
              "      <td>-0.116029</td>\n",
              "      <td>0.290359</td>\n",
              "      <td>1.000000</td>\n",
              "      <td>-0.048937</td>\n",
              "      <td>0.018164</td>\n",
              "    </tr>\n",
              "    <tr>\n",
              "      <th>calculated_host_listings_count</th>\n",
              "      <td>-0.008449</td>\n",
              "      <td>0.058397</td>\n",
              "      <td>-0.117645</td>\n",
              "      <td>-0.048937</td>\n",
              "      <td>1.000000</td>\n",
              "      <td>0.213899</td>\n",
              "    </tr>\n",
              "    <tr>\n",
              "      <th>availability_365</th>\n",
              "      <td>0.113317</td>\n",
              "      <td>0.038751</td>\n",
              "      <td>-0.010188</td>\n",
              "      <td>0.018164</td>\n",
              "      <td>0.213899</td>\n",
              "      <td>1.000000</td>\n",
              "    </tr>\n",
              "  </tbody>\n",
              "</table>\n",
              "</div>\n",
              "      <button class=\"colab-df-convert\" onclick=\"convertToInteractive('df-3ab0acfe-6171-40ce-b4fe-62d5e4d556b1')\"\n",
              "              title=\"Convert this dataframe to an interactive table.\"\n",
              "              style=\"display:none;\">\n",
              "        \n",
              "  <svg xmlns=\"http://www.w3.org/2000/svg\" height=\"24px\"viewBox=\"0 0 24 24\"\n",
              "       width=\"24px\">\n",
              "    <path d=\"M0 0h24v24H0V0z\" fill=\"none\"/>\n",
              "    <path d=\"M18.56 5.44l.94 2.06.94-2.06 2.06-.94-2.06-.94-.94-2.06-.94 2.06-2.06.94zm-11 1L8.5 8.5l.94-2.06 2.06-.94-2.06-.94L8.5 2.5l-.94 2.06-2.06.94zm10 10l.94 2.06.94-2.06 2.06-.94-2.06-.94-.94-2.06-.94 2.06-2.06.94z\"/><path d=\"M17.41 7.96l-1.37-1.37c-.4-.4-.92-.59-1.43-.59-.52 0-1.04.2-1.43.59L10.3 9.45l-7.72 7.72c-.78.78-.78 2.05 0 2.83L4 21.41c.39.39.9.59 1.41.59.51 0 1.02-.2 1.41-.59l7.78-7.78 2.81-2.81c.8-.78.8-2.07 0-2.86zM5.41 20L4 18.59l7.72-7.72 1.47 1.35L5.41 20z\"/>\n",
              "  </svg>\n",
              "      </button>\n",
              "      \n",
              "  <style>\n",
              "    .colab-df-container {\n",
              "      display:flex;\n",
              "      flex-wrap:wrap;\n",
              "      gap: 12px;\n",
              "    }\n",
              "\n",
              "    .colab-df-convert {\n",
              "      background-color: #E8F0FE;\n",
              "      border: none;\n",
              "      border-radius: 50%;\n",
              "      cursor: pointer;\n",
              "      display: none;\n",
              "      fill: #1967D2;\n",
              "      height: 32px;\n",
              "      padding: 0 0 0 0;\n",
              "      width: 32px;\n",
              "    }\n",
              "\n",
              "    .colab-df-convert:hover {\n",
              "      background-color: #E2EBFA;\n",
              "      box-shadow: 0px 1px 2px rgba(60, 64, 67, 0.3), 0px 1px 3px 1px rgba(60, 64, 67, 0.15);\n",
              "      fill: #174EA6;\n",
              "    }\n",
              "\n",
              "    [theme=dark] .colab-df-convert {\n",
              "      background-color: #3B4455;\n",
              "      fill: #D2E3FC;\n",
              "    }\n",
              "\n",
              "    [theme=dark] .colab-df-convert:hover {\n",
              "      background-color: #434B5C;\n",
              "      box-shadow: 0px 1px 3px 1px rgba(0, 0, 0, 0.15);\n",
              "      filter: drop-shadow(0px 1px 2px rgba(0, 0, 0, 0.3));\n",
              "      fill: #FFFFFF;\n",
              "    }\n",
              "  </style>\n",
              "\n",
              "      <script>\n",
              "        const buttonEl =\n",
              "          document.querySelector('#df-3ab0acfe-6171-40ce-b4fe-62d5e4d556b1 button.colab-df-convert');\n",
              "        buttonEl.style.display =\n",
              "          google.colab.kernel.accessAllowed ? 'block' : 'none';\n",
              "\n",
              "        async function convertToInteractive(key) {\n",
              "          const element = document.querySelector('#df-3ab0acfe-6171-40ce-b4fe-62d5e4d556b1');\n",
              "          const dataTable =\n",
              "            await google.colab.kernel.invokeFunction('convertToInteractive',\n",
              "                                                     [key], {});\n",
              "          if (!dataTable) return;\n",
              "\n",
              "          const docLinkHtml = 'Like what you see? Visit the ' +\n",
              "            '<a target=\"_blank\" href=https://colab.research.google.com/notebooks/data_table.ipynb>data table notebook</a>'\n",
              "            + ' to learn more about interactive tables.';\n",
              "          element.innerHTML = '';\n",
              "          dataTable['output_type'] = 'display_data';\n",
              "          await google.colab.output.renderOutput(dataTable, element);\n",
              "          const docLink = document.createElement('div');\n",
              "          docLink.innerHTML = docLinkHtml;\n",
              "          element.appendChild(docLink);\n",
              "        }\n",
              "      </script>\n",
              "    </div>\n",
              "  </div>\n",
              "  "
            ]
          },
          "metadata": {}
        }
      ]
    },
    {
      "cell_type": "code",
      "metadata": {
        "id": "91UujDr6ueqE",
        "colab": {
          "base_uri": "https://localhost:8080/",
          "height": 411
        },
        "outputId": "59a55267-35c4-4670-aeec-d4916f9921c1"
      },
      "source": [
        "# plotar um heatmap a partir das correlações\n",
        "sns.heatmap(corr, cmap='RdBu', fmt='.2f', square=True, linecolor='white', annot=True);"
      ],
      "execution_count": null,
      "outputs": [
        {
          "output_type": "display_data",
          "data": {
            "text/plain": [
              "<Figure size 432x288 with 2 Axes>"
            ],
            "image/png": "[encoded data removed]"
          },
          "metadata": {
            "needs_background": "light"
          }
        }
      ]
    },
    {
      "cell_type": "markdown",
      "source": [
        "Para cada *feature* X do meu *dataset*, ele irá mostrar como ela se relaciona com a *feature* Y. A partir dessa visualização, você pode saber quais *features* possuem uma **correlação positiva** — quando se movem na mesma direção, por exemplo: a quantidade de imóveis do mesmo anfitrião e número de dias de disponibilidade dentro de 365 dias; ou quando possuem uma **correlação negativa** — quando se movem em direções opostas, por exemplo: número de *reviews* que a propriedade possui e quantidade de imóveis do mesmo anfitrião."
      ],
      "metadata": {
        "id": "eOd1BB1eizJY"
      }
    },
    {
      "cell_type": "markdown",
      "metadata": {
        "id": "7b6RMWpuHKN-"
      },
      "source": [
        "### **Q6. Qual o tipo de imóvel mais alugado no Airbnb?**\n",
        "\n",
        "A coluna da variável `room_type` indica o tipo de locação que está anunciada no Airbnb. Se você já alugou no site, sabe que existem opções de apartamentos/casas inteiras, apenas o aluguel de um quarto ou mesmo dividir o quarto com outras pessoas.\n",
        "\n",
        "Vamos contar a quantidade de ocorrências de cada tipo de aluguel, usando o método `value_counts()`."
      ]
    },
    {
      "cell_type": "code",
      "metadata": {
        "id": "ueLPNWvPHgfB",
        "colab": {
          "base_uri": "https://localhost:8080/"
        },
        "outputId": "734f4cd9-6495-4c3b-a57f-b1c9508c3a14"
      },
      "source": [
        "# mostrar a quantidade de cada tipo de imóvel disponível\n",
        "df_clean.room_type.value_counts()"
      ],
      "execution_count": null,
      "outputs": [
        {
          "output_type": "execute_result",
          "data": {
            "text/plain": [
              "Entire home/apt    22434\n",
              "Private room        9675\n",
              "Shared room          774\n",
              "Hotel room           107\n",
              "Name: room_type, dtype: int64"
            ]
          },
          "metadata": {},
          "execution_count": 25
        }
      ]
    },
    {
      "cell_type": "code",
      "metadata": {
        "id": "EvwoO-XAHhIm",
        "colab": {
          "base_uri": "https://localhost:8080/"
        },
        "outputId": "b0127a65-ce5a-4b78-f338-9c206637d243"
      },
      "source": [
        "# mostrar a porcentagem de cada tipo de imóvel disponível\n",
        "df_clean.room_type.value_counts() / df_clean.shape[0]"
      ],
      "execution_count": null,
      "outputs": [
        {
          "output_type": "execute_result",
          "data": {
            "text/plain": [
              "Entire home/apt    0.680024\n",
              "Private room       0.293271\n",
              "Shared room        0.023462\n",
              "Hotel room         0.003243\n",
              "Name: room_type, dtype: float64"
            ]
          },
          "metadata": {},
          "execution_count": 26
        }
      ]
    },
    {
      "cell_type": "markdown",
      "source": [
        "**Dicionário dos tipos**\n",
        "\n",
        "* `Entire home/apt` -    lugar inteiro\n",
        "* `Private room` -       quarto privado\n",
        "* `Shared room` -        quarto compartilhado \n",
        "* `Hotel room` -         quarto de hotel   "
      ],
      "metadata": {
        "id": "JLB1mBmsVQmy"
      }
    },
    {
      "cell_type": "markdown",
      "metadata": {
        "id": "MFa5NbnLJMcd"
      },
      "source": [
        "### **Q7. Qual a localidade mais cara do dataset?**\n",
        "\n",
        "Uma maneira de se verificar uma variável em função da outra é usando `groupby()`. No caso, queremos comparar os bairros (*neighbourhoods*) a partir do preço de locação.\n",
        "\n",
        "\n"
      ]
    },
    {
      "cell_type": "code",
      "metadata": {
        "id": "MD_xa143JZpi",
        "colab": {
          "base_uri": "https://localhost:8080/"
        },
        "outputId": "ef7e1c65-f7eb-4ccc-a626-9665310551d4"
      },
      "source": [
        "# ver preços por bairros, na média\n",
        "df_clean.groupby(['neighbourhood']).price.mean().sort_values(ascending=False)[:10]"
      ],
      "execution_count": null,
      "outputs": [
        {
          "output_type": "execute_result",
          "data": {
            "text/plain": [
              "neighbourhood\n",
              "Bradbury                                 1462.000000\n",
              "Bel-Air                                   857.116279\n",
              "Malibu                                    851.578947\n",
              "Beverly Crest                             761.121951\n",
              "Leona Valley                              755.000000\n",
              "Hollywood Hills West                      722.907240\n",
              "Palos Verdes Estates                      542.833333\n",
              "Unincorporated Santa Monica Mountains     512.417266\n",
              "Avalon                                    435.065574\n",
              "Westlake Village                          426.666667\n",
              "Name: price, dtype: float64"
            ]
          },
          "metadata": {},
          "execution_count": 27
        }
      ]
    },
    {
      "cell_type": "markdown",
      "source": [
        "Acima, vemos que bairros como ***Bradbury*** e ***Leona Valley***,  estão com média de preço superior a de lugares como ***Hollywood Hills, Santa Monica, Beverly Hills* e *Venice***.\n",
        "\n",
        "Uma pessoa que não conhecesse *Los Angeles* poderia apresentar esses resultados sem se questionar. Só para dar um único exemplo de como uma amostra pode ser não-representativa, veja quantas entradas há para o ***Bradbury***."
      ],
      "metadata": {
        "id": "RKixWatWZYAj"
      }
    },
    {
      "cell_type": "code",
      "source": [
        "# ver quantidade de imóveis no Bradbury\n",
        "print(df_clean[df_clean.neighbourhood == \"Bradbury\"].shape)\n",
        "\n",
        "# ver as entradas do Bradbury\n",
        "df_clean[df_clean.neighbourhood == \"Bradbury\"]"
      ],
      "metadata": {
        "colab": {
          "base_uri": "https://localhost:8080/",
          "height": 249
        },
        "id": "nQne9C1ecjym",
        "outputId": "38adb25c-23e8-4f62-eb98-ab7589ffa658"
      },
      "execution_count": null,
      "outputs": [
        {
          "output_type": "stream",
          "name": "stdout",
          "text": [
            "(1, 18)\n"
          ]
        },
        {
          "output_type": "execute_result",
          "data": {
            "text/plain": [
              "             id                                               name    host_id  \\\n",
              "32636  53405205  Dream house luxy Cali ranch style villa  Bradbury  138846054   \n",
              "\n",
              "      host_name neighbourhood_group neighbourhood  latitude  longitude  \\\n",
              "32636      Eric        Other Cities      Bradbury  34.14967 -117.96302   \n",
              "\n",
              "             room_type  price  minimum_nights  number_of_reviews last_review  \\\n",
              "32636  Entire home/apt   1462               1                  2  2021-12-05   \n",
              "\n",
              "       reviews_per_month  calculated_host_listings_count  availability_365  \\\n",
              "32636                2.0                               3               174   \n",
              "\n",
              "       number_of_reviews_ltm license  \n",
              "32636                      2     NaN  "
            ],
            "text/html": [
              "\n",
              "  <div id=\"df-7d1386b5-6f42-4eb9-ab85-6962d56ce57d\">\n",
              "    <div class=\"colab-df-container\">\n",
              "      <div>\n",
              "<style scoped>\n",
              "    .dataframe tbody tr th:only-of-type {\n",
              "        vertical-align: middle;\n",
              "    }\n",
              "\n",
              "    .dataframe tbody tr th {\n",
              "        vertical-align: top;\n",
              "    }\n",
              "\n",
              "    .dataframe thead th {\n",
              "        text-align: right;\n",
              "    }\n",
              "</style>\n",
              "<table border=\"1\" class=\"dataframe\">\n",
              "  <thead>\n",
              "    <tr style=\"text-align: right;\">\n",
              "      <th></th>\n",
              "      <th>id</th>\n",
              "      <th>name</th>\n",
              "      <th>host_id</th>\n",
              "      <th>host_name</th>\n",
              "      <th>neighbourhood_group</th>\n",
              "      <th>neighbourhood</th>\n",
              "      <th>latitude</th>\n",
              "      <th>longitude</th>\n",
              "      <th>room_type</th>\n",
              "      <th>price</th>\n",
              "      <th>minimum_nights</th>\n",
              "      <th>number_of_reviews</th>\n",
              "      <th>last_review</th>\n",
              "      <th>reviews_per_month</th>\n",
              "      <th>calculated_host_listings_count</th>\n",
              "      <th>availability_365</th>\n",
              "      <th>number_of_reviews_ltm</th>\n",
              "      <th>license</th>\n",
              "    </tr>\n",
              "  </thead>\n",
              "  <tbody>\n",
              "    <tr>\n",
              "      <th>32636</th>\n",
              "      <td>53405205</td>\n",
              "      <td>Dream house luxy Cali ranch style villa  Bradbury</td>\n",
              "      <td>138846054</td>\n",
              "      <td>Eric</td>\n",
              "      <td>Other Cities</td>\n",
              "      <td>Bradbury</td>\n",
              "      <td>34.14967</td>\n",
              "      <td>-117.96302</td>\n",
              "      <td>Entire home/apt</td>\n",
              "      <td>1462</td>\n",
              "      <td>1</td>\n",
              "      <td>2</td>\n",
              "      <td>2021-12-05</td>\n",
              "      <td>2.0</td>\n",
              "      <td>3</td>\n",
              "      <td>174</td>\n",
              "      <td>2</td>\n",
              "      <td>NaN</td>\n",
              "    </tr>\n",
              "  </tbody>\n",
              "</table>\n",
              "</div>\n",
              "      <button class=\"colab-df-convert\" onclick=\"convertToInteractive('df-7d1386b5-6f42-4eb9-ab85-6962d56ce57d')\"\n",
              "              title=\"Convert this dataframe to an interactive table.\"\n",
              "              style=\"display:none;\">\n",
              "        \n",
              "  <svg xmlns=\"http://www.w3.org/2000/svg\" height=\"24px\"viewBox=\"0 0 24 24\"\n",
              "       width=\"24px\">\n",
              "    <path d=\"M0 0h24v24H0V0z\" fill=\"none\"/>\n",
              "    <path d=\"M18.56 5.44l.94 2.06.94-2.06 2.06-.94-2.06-.94-.94-2.06-.94 2.06-2.06.94zm-11 1L8.5 8.5l.94-2.06 2.06-.94-2.06-.94L8.5 2.5l-.94 2.06-2.06.94zm10 10l.94 2.06.94-2.06 2.06-.94-2.06-.94-.94-2.06-.94 2.06-2.06.94z\"/><path d=\"M17.41 7.96l-1.37-1.37c-.4-.4-.92-.59-1.43-.59-.52 0-1.04.2-1.43.59L10.3 9.45l-7.72 7.72c-.78.78-.78 2.05 0 2.83L4 21.41c.39.39.9.59 1.41.59.51 0 1.02-.2 1.41-.59l7.78-7.78 2.81-2.81c.8-.78.8-2.07 0-2.86zM5.41 20L4 18.59l7.72-7.72 1.47 1.35L5.41 20z\"/>\n",
              "  </svg>\n",
              "      </button>\n",
              "      \n",
              "  <style>\n",
              "    .colab-df-container {\n",
              "      display:flex;\n",
              "      flex-wrap:wrap;\n",
              "      gap: 12px;\n",
              "    }\n",
              "\n",
              "    .colab-df-convert {\n",
              "      background-color: #E8F0FE;\n",
              "      border: none;\n",
              "      border-radius: 50%;\n",
              "      cursor: pointer;\n",
              "      display: none;\n",
              "      fill: #1967D2;\n",
              "      height: 32px;\n",
              "      padding: 0 0 0 0;\n",
              "      width: 32px;\n",
              "    }\n",
              "\n",
              "    .colab-df-convert:hover {\n",
              "      background-color: #E2EBFA;\n",
              "      box-shadow: 0px 1px 2px rgba(60, 64, 67, 0.3), 0px 1px 3px 1px rgba(60, 64, 67, 0.15);\n",
              "      fill: #174EA6;\n",
              "    }\n",
              "\n",
              "    [theme=dark] .colab-df-convert {\n",
              "      background-color: #3B4455;\n",
              "      fill: #D2E3FC;\n",
              "    }\n",
              "\n",
              "    [theme=dark] .colab-df-convert:hover {\n",
              "      background-color: #434B5C;\n",
              "      box-shadow: 0px 1px 3px 1px rgba(0, 0, 0, 0.15);\n",
              "      filter: drop-shadow(0px 1px 2px rgba(0, 0, 0, 0.3));\n",
              "      fill: #FFFFFF;\n",
              "    }\n",
              "  </style>\n",
              "\n",
              "      <script>\n",
              "        const buttonEl =\n",
              "          document.querySelector('#df-7d1386b5-6f42-4eb9-ab85-6962d56ce57d button.colab-df-convert');\n",
              "        buttonEl.style.display =\n",
              "          google.colab.kernel.accessAllowed ? 'block' : 'none';\n",
              "\n",
              "        async function convertToInteractive(key) {\n",
              "          const element = document.querySelector('#df-7d1386b5-6f42-4eb9-ab85-6962d56ce57d');\n",
              "          const dataTable =\n",
              "            await google.colab.kernel.invokeFunction('convertToInteractive',\n",
              "                                                     [key], {});\n",
              "          if (!dataTable) return;\n",
              "\n",
              "          const docLinkHtml = 'Like what you see? Visit the ' +\n",
              "            '<a target=\"_blank\" href=https://colab.research.google.com/notebooks/data_table.ipynb>data table notebook</a>'\n",
              "            + ' to learn more about interactive tables.';\n",
              "          element.innerHTML = '';\n",
              "          dataTable['output_type'] = 'display_data';\n",
              "          await google.colab.output.renderOutput(dataTable, element);\n",
              "          const docLink = document.createElement('div');\n",
              "          docLink.innerHTML = docLinkHtml;\n",
              "          element.appendChild(docLink);\n",
              "        }\n",
              "      </script>\n",
              "    </div>\n",
              "  </div>\n",
              "  "
            ]
          },
          "metadata": {},
          "execution_count": 28
        }
      ]
    },
    {
      "cell_type": "markdown",
      "source": [
        "Agora veja quantas entradas há para o ***Leona Valley***."
      ],
      "metadata": {
        "id": "A9LTl1mzfjjM"
      }
    },
    {
      "cell_type": "code",
      "source": [
        "# ver quantidade de imóveis no Leona Valley\n",
        "print(df_clean[df_clean.neighbourhood == \"Leona Valley\"].shape)\n",
        "\n",
        "# ver as entradas do Leona Valley\n",
        "df_clean[df_clean.neighbourhood == \"Leona Valley\"]"
      ],
      "metadata": {
        "colab": {
          "base_uri": "https://localhost:8080/",
          "height": 266
        },
        "id": "3MA6QCMfdUg2",
        "outputId": "935de5f2-d0fc-4c8b-e5a7-5f3530630104"
      },
      "execution_count": null,
      "outputs": [
        {
          "output_type": "stream",
          "name": "stdout",
          "text": [
            "(1, 18)\n"
          ]
        },
        {
          "output_type": "execute_result",
          "data": {
            "text/plain": [
              "             id                                               name    host_id  \\\n",
              "23986  47102025  Amazing Escape close to LA with Pool and Game ...  378407459   \n",
              "\n",
              "      host_name   neighbourhood_group neighbourhood  latitude  longitude  \\\n",
              "23986      Lisa  Unincorporated Areas  Leona Valley  34.64027 -118.36254   \n",
              "\n",
              "             room_type  price  minimum_nights  number_of_reviews last_review  \\\n",
              "23986  Entire home/apt    755               2                 38  2021-12-01   \n",
              "\n",
              "       reviews_per_month  calculated_host_listings_count  availability_365  \\\n",
              "23986               3.67                               1               173   \n",
              "\n",
              "       number_of_reviews_ltm license  \n",
              "23986                     38     NaN  "
            ],
            "text/html": [
              "\n",
              "  <div id=\"df-5e62a690-7af3-4382-97c7-b7eaeda4ae61\">\n",
              "    <div class=\"colab-df-container\">\n",
              "      <div>\n",
              "<style scoped>\n",
              "    .dataframe tbody tr th:only-of-type {\n",
              "        vertical-align: middle;\n",
              "    }\n",
              "\n",
              "    .dataframe tbody tr th {\n",
              "        vertical-align: top;\n",
              "    }\n",
              "\n",
              "    .dataframe thead th {\n",
              "        text-align: right;\n",
              "    }\n",
              "</style>\n",
              "<table border=\"1\" class=\"dataframe\">\n",
              "  <thead>\n",
              "    <tr style=\"text-align: right;\">\n",
              "      <th></th>\n",
              "      <th>id</th>\n",
              "      <th>name</th>\n",
              "      <th>host_id</th>\n",
              "      <th>host_name</th>\n",
              "      <th>neighbourhood_group</th>\n",
              "      <th>neighbourhood</th>\n",
              "      <th>latitude</th>\n",
              "      <th>longitude</th>\n",
              "      <th>room_type</th>\n",
              "      <th>price</th>\n",
              "      <th>minimum_nights</th>\n",
              "      <th>number_of_reviews</th>\n",
              "      <th>last_review</th>\n",
              "      <th>reviews_per_month</th>\n",
              "      <th>calculated_host_listings_count</th>\n",
              "      <th>availability_365</th>\n",
              "      <th>number_of_reviews_ltm</th>\n",
              "      <th>license</th>\n",
              "    </tr>\n",
              "  </thead>\n",
              "  <tbody>\n",
              "    <tr>\n",
              "      <th>23986</th>\n",
              "      <td>47102025</td>\n",
              "      <td>Amazing Escape close to LA with Pool and Game ...</td>\n",
              "      <td>378407459</td>\n",
              "      <td>Lisa</td>\n",
              "      <td>Unincorporated Areas</td>\n",
              "      <td>Leona Valley</td>\n",
              "      <td>34.64027</td>\n",
              "      <td>-118.36254</td>\n",
              "      <td>Entire home/apt</td>\n",
              "      <td>755</td>\n",
              "      <td>2</td>\n",
              "      <td>38</td>\n",
              "      <td>2021-12-01</td>\n",
              "      <td>3.67</td>\n",
              "      <td>1</td>\n",
              "      <td>173</td>\n",
              "      <td>38</td>\n",
              "      <td>NaN</td>\n",
              "    </tr>\n",
              "  </tbody>\n",
              "</table>\n",
              "</div>\n",
              "      <button class=\"colab-df-convert\" onclick=\"convertToInteractive('df-5e62a690-7af3-4382-97c7-b7eaeda4ae61')\"\n",
              "              title=\"Convert this dataframe to an interactive table.\"\n",
              "              style=\"display:none;\">\n",
              "        \n",
              "  <svg xmlns=\"http://www.w3.org/2000/svg\" height=\"24px\"viewBox=\"0 0 24 24\"\n",
              "       width=\"24px\">\n",
              "    <path d=\"M0 0h24v24H0V0z\" fill=\"none\"/>\n",
              "    <path d=\"M18.56 5.44l.94 2.06.94-2.06 2.06-.94-2.06-.94-.94-2.06-.94 2.06-2.06.94zm-11 1L8.5 8.5l.94-2.06 2.06-.94-2.06-.94L8.5 2.5l-.94 2.06-2.06.94zm10 10l.94 2.06.94-2.06 2.06-.94-2.06-.94-.94-2.06-.94 2.06-2.06.94z\"/><path d=\"M17.41 7.96l-1.37-1.37c-.4-.4-.92-.59-1.43-.59-.52 0-1.04.2-1.43.59L10.3 9.45l-7.72 7.72c-.78.78-.78 2.05 0 2.83L4 21.41c.39.39.9.59 1.41.59.51 0 1.02-.2 1.41-.59l7.78-7.78 2.81-2.81c.8-.78.8-2.07 0-2.86zM5.41 20L4 18.59l7.72-7.72 1.47 1.35L5.41 20z\"/>\n",
              "  </svg>\n",
              "      </button>\n",
              "      \n",
              "  <style>\n",
              "    .colab-df-container {\n",
              "      display:flex;\n",
              "      flex-wrap:wrap;\n",
              "      gap: 12px;\n",
              "    }\n",
              "\n",
              "    .colab-df-convert {\n",
              "      background-color: #E8F0FE;\n",
              "      border: none;\n",
              "      border-radius: 50%;\n",
              "      cursor: pointer;\n",
              "      display: none;\n",
              "      fill: #1967D2;\n",
              "      height: 32px;\n",
              "      padding: 0 0 0 0;\n",
              "      width: 32px;\n",
              "    }\n",
              "\n",
              "    .colab-df-convert:hover {\n",
              "      background-color: #E2EBFA;\n",
              "      box-shadow: 0px 1px 2px rgba(60, 64, 67, 0.3), 0px 1px 3px 1px rgba(60, 64, 67, 0.15);\n",
              "      fill: #174EA6;\n",
              "    }\n",
              "\n",
              "    [theme=dark] .colab-df-convert {\n",
              "      background-color: #3B4455;\n",
              "      fill: #D2E3FC;\n",
              "    }\n",
              "\n",
              "    [theme=dark] .colab-df-convert:hover {\n",
              "      background-color: #434B5C;\n",
              "      box-shadow: 0px 1px 3px 1px rgba(0, 0, 0, 0.15);\n",
              "      filter: drop-shadow(0px 1px 2px rgba(0, 0, 0, 0.3));\n",
              "      fill: #FFFFFF;\n",
              "    }\n",
              "  </style>\n",
              "\n",
              "      <script>\n",
              "        const buttonEl =\n",
              "          document.querySelector('#df-5e62a690-7af3-4382-97c7-b7eaeda4ae61 button.colab-df-convert');\n",
              "        buttonEl.style.display =\n",
              "          google.colab.kernel.accessAllowed ? 'block' : 'none';\n",
              "\n",
              "        async function convertToInteractive(key) {\n",
              "          const element = document.querySelector('#df-5e62a690-7af3-4382-97c7-b7eaeda4ae61');\n",
              "          const dataTable =\n",
              "            await google.colab.kernel.invokeFunction('convertToInteractive',\n",
              "                                                     [key], {});\n",
              "          if (!dataTable) return;\n",
              "\n",
              "          const docLinkHtml = 'Like what you see? Visit the ' +\n",
              "            '<a target=\"_blank\" href=https://colab.research.google.com/notebooks/data_table.ipynb>data table notebook</a>'\n",
              "            + ' to learn more about interactive tables.';\n",
              "          element.innerHTML = '';\n",
              "          dataTable['output_type'] = 'display_data';\n",
              "          await google.colab.output.renderOutput(dataTable, element);\n",
              "          const docLink = document.createElement('div');\n",
              "          docLink.innerHTML = docLinkHtml;\n",
              "          element.appendChild(docLink);\n",
              "        }\n",
              "      </script>\n",
              "    </div>\n",
              "  </div>\n",
              "  "
            ]
          },
          "metadata": {},
          "execution_count": 29
        }
      ]
    },
    {
      "cell_type": "markdown",
      "source": [
        "Por fim, veja a diferença de quantas entradas há para o ***Hollywood Hills West***."
      ],
      "metadata": {
        "id": "I7Qr0S8agGqd"
      }
    },
    {
      "cell_type": "code",
      "source": [
        "# ver quantidade de imóveis no Hollywood Hills West\n",
        "print(df_clean[df_clean.neighbourhood == \"Hollywood Hills West\"].shape)\n",
        "\n",
        "# ver as entradas do Hollywood Hills West\n",
        "df_clean[df_clean.neighbourhood == \"Hollywood Hills West\"][:5]"
      ],
      "metadata": {
        "colab": {
          "base_uri": "https://localhost:8080/",
          "height": 548
        },
        "id": "4kmhcmDPdpA6",
        "outputId": "eaf6f210-1f17-4b29-ffea-353c7db18c18"
      },
      "execution_count": null,
      "outputs": [
        {
          "output_type": "stream",
          "name": "stdout",
          "text": [
            "(442, 18)\n"
          ]
        },
        {
          "output_type": "execute_result",
          "data": {
            "text/plain": [
              "         id                                              name  host_id  \\\n",
              "4      3021   Hollywood Hills Zen Modern style Apt/Guesthouse     3415   \n",
              "46    38365    Hollywood Hills  Private Br Suite-HSR19-004287     3415   \n",
              "69    61153  Furnished Bedroom /Hollywood Hills -HSR19-004287     3415   \n",
              "119  132908           Spectacular Home With Breathtaking View   633484   \n",
              "153  206662                Hollywood & Hiking, 31 day minimum    33861   \n",
              "\n",
              "         host_name  neighbourhood_group         neighbourhood  latitude  \\\n",
              "4          Nataraj  City of Los Angeles  Hollywood Hills West  34.11160   \n",
              "46         Nataraj  City of Los Angeles  Hollywood Hills West  34.10788   \n",
              "69         Nataraj  City of Los Angeles  Hollywood Hills West  34.10998   \n",
              "119  Alexio & Vero  City of Los Angeles  Hollywood Hills West  34.10236   \n",
              "153          Kevin  City of Los Angeles  Hollywood Hills West  34.10420   \n",
              "\n",
              "     longitude        room_type  price  minimum_nights  number_of_reviews  \\\n",
              "4   -118.38223  Entire home/apt    118              31                 23   \n",
              "46  -118.37879     Private room     61              30                  8   \n",
              "69  -118.38152     Private room     69              30                  9   \n",
              "119 -118.37752  Entire home/apt   1107              30                249   \n",
              "153 -118.34748     Private room     40              31                 91   \n",
              "\n",
              "    last_review  reviews_per_month  calculated_host_listings_count  \\\n",
              "4    2018-10-31               0.23                               4   \n",
              "46   2021-11-02               0.23                               4   \n",
              "69   2021-08-22               0.10                               4   \n",
              "119  2021-01-24               2.10                               1   \n",
              "153  2018-12-02               0.95                               1   \n",
              "\n",
              "     availability_365  number_of_reviews_ltm       license  \n",
              "4                 308                      0           NaN  \n",
              "46                284                      3           NaN  \n",
              "69                280                      1  HSR19-004287  \n",
              "119               365                      1  HSR20-002235  \n",
              "153                58                      0           NaN  "
            ],
            "text/html": [
              "\n",
              "  <div id=\"df-901d50a7-7f21-4073-a1b6-690a7cffcb30\">\n",
              "    <div class=\"colab-df-container\">\n",
              "      <div>\n",
              "<style scoped>\n",
              "    .dataframe tbody tr th:only-of-type {\n",
              "        vertical-align: middle;\n",
              "    }\n",
              "\n",
              "    .dataframe tbody tr th {\n",
              "        vertical-align: top;\n",
              "    }\n",
              "\n",
              "    .dataframe thead th {\n",
              "        text-align: right;\n",
              "    }\n",
              "</style>\n",
              "<table border=\"1\" class=\"dataframe\">\n",
              "  <thead>\n",
              "    <tr style=\"text-align: right;\">\n",
              "      <th></th>\n",
              "      <th>id</th>\n",
              "      <th>name</th>\n",
              "      <th>host_id</th>\n",
              "      <th>host_name</th>\n",
              "      <th>neighbourhood_group</th>\n",
              "      <th>neighbourhood</th>\n",
              "      <th>latitude</th>\n",
              "      <th>longitude</th>\n",
              "      <th>room_type</th>\n",
              "      <th>price</th>\n",
              "      <th>minimum_nights</th>\n",
              "      <th>number_of_reviews</th>\n",
              "      <th>last_review</th>\n",
              "      <th>reviews_per_month</th>\n",
              "      <th>calculated_host_listings_count</th>\n",
              "      <th>availability_365</th>\n",
              "      <th>number_of_reviews_ltm</th>\n",
              "      <th>license</th>\n",
              "    </tr>\n",
              "  </thead>\n",
              "  <tbody>\n",
              "    <tr>\n",
              "      <th>4</th>\n",
              "      <td>3021</td>\n",
              "      <td>Hollywood Hills Zen Modern style Apt/Guesthouse</td>\n",
              "      <td>3415</td>\n",
              "      <td>Nataraj</td>\n",
              "      <td>City of Los Angeles</td>\n",
              "      <td>Hollywood Hills West</td>\n",
              "      <td>34.11160</td>\n",
              "      <td>-118.38223</td>\n",
              "      <td>Entire home/apt</td>\n",
              "      <td>118</td>\n",
              "      <td>31</td>\n",
              "      <td>23</td>\n",
              "      <td>2018-10-31</td>\n",
              "      <td>0.23</td>\n",
              "      <td>4</td>\n",
              "      <td>308</td>\n",
              "      <td>0</td>\n",
              "      <td>NaN</td>\n",
              "    </tr>\n",
              "    <tr>\n",
              "      <th>46</th>\n",
              "      <td>38365</td>\n",
              "      <td>Hollywood Hills  Private Br Suite-HSR19-004287</td>\n",
              "      <td>3415</td>\n",
              "      <td>Nataraj</td>\n",
              "      <td>City of Los Angeles</td>\n",
              "      <td>Hollywood Hills West</td>\n",
              "      <td>34.10788</td>\n",
              "      <td>-118.37879</td>\n",
              "      <td>Private room</td>\n",
              "      <td>61</td>\n",
              "      <td>30</td>\n",
              "      <td>8</td>\n",
              "      <td>2021-11-02</td>\n",
              "      <td>0.23</td>\n",
              "      <td>4</td>\n",
              "      <td>284</td>\n",
              "      <td>3</td>\n",
              "      <td>NaN</td>\n",
              "    </tr>\n",
              "    <tr>\n",
              "      <th>69</th>\n",
              "      <td>61153</td>\n",
              "      <td>Furnished Bedroom /Hollywood Hills -HSR19-004287</td>\n",
              "      <td>3415</td>\n",
              "      <td>Nataraj</td>\n",
              "      <td>City of Los Angeles</td>\n",
              "      <td>Hollywood Hills West</td>\n",
              "      <td>34.10998</td>\n",
              "      <td>-118.38152</td>\n",
              "      <td>Private room</td>\n",
              "      <td>69</td>\n",
              "      <td>30</td>\n",
              "      <td>9</td>\n",
              "      <td>2021-08-22</td>\n",
              "      <td>0.10</td>\n",
              "      <td>4</td>\n",
              "      <td>280</td>\n",
              "      <td>1</td>\n",
              "      <td>HSR19-004287</td>\n",
              "    </tr>\n",
              "    <tr>\n",
              "      <th>119</th>\n",
              "      <td>132908</td>\n",
              "      <td>Spectacular Home With Breathtaking View</td>\n",
              "      <td>633484</td>\n",
              "      <td>Alexio &amp; Vero</td>\n",
              "      <td>City of Los Angeles</td>\n",
              "      <td>Hollywood Hills West</td>\n",
              "      <td>34.10236</td>\n",
              "      <td>-118.37752</td>\n",
              "      <td>Entire home/apt</td>\n",
              "      <td>1107</td>\n",
              "      <td>30</td>\n",
              "      <td>249</td>\n",
              "      <td>2021-01-24</td>\n",
              "      <td>2.10</td>\n",
              "      <td>1</td>\n",
              "      <td>365</td>\n",
              "      <td>1</td>\n",
              "      <td>HSR20-002235</td>\n",
              "    </tr>\n",
              "    <tr>\n",
              "      <th>153</th>\n",
              "      <td>206662</td>\n",
              "      <td>Hollywood &amp; Hiking, 31 day minimum</td>\n",
              "      <td>33861</td>\n",
              "      <td>Kevin</td>\n",
              "      <td>City of Los Angeles</td>\n",
              "      <td>Hollywood Hills West</td>\n",
              "      <td>34.10420</td>\n",
              "      <td>-118.34748</td>\n",
              "      <td>Private room</td>\n",
              "      <td>40</td>\n",
              "      <td>31</td>\n",
              "      <td>91</td>\n",
              "      <td>2018-12-02</td>\n",
              "      <td>0.95</td>\n",
              "      <td>1</td>\n",
              "      <td>58</td>\n",
              "      <td>0</td>\n",
              "      <td>NaN</td>\n",
              "    </tr>\n",
              "  </tbody>\n",
              "</table>\n",
              "</div>\n",
              "      <button class=\"colab-df-convert\" onclick=\"convertToInteractive('df-901d50a7-7f21-4073-a1b6-690a7cffcb30')\"\n",
              "              title=\"Convert this dataframe to an interactive table.\"\n",
              "              style=\"display:none;\">\n",
              "        \n",
              "  <svg xmlns=\"http://www.w3.org/2000/svg\" height=\"24px\"viewBox=\"0 0 24 24\"\n",
              "       width=\"24px\">\n",
              "    <path d=\"M0 0h24v24H0V0z\" fill=\"none\"/>\n",
              "    <path d=\"M18.56 5.44l.94 2.06.94-2.06 2.06-.94-2.06-.94-.94-2.06-.94 2.06-2.06.94zm-11 1L8.5 8.5l.94-2.06 2.06-.94-2.06-.94L8.5 2.5l-.94 2.06-2.06.94zm10 10l.94 2.06.94-2.06 2.06-.94-2.06-.94-.94-2.06-.94 2.06-2.06.94z\"/><path d=\"M17.41 7.96l-1.37-1.37c-.4-.4-.92-.59-1.43-.59-.52 0-1.04.2-1.43.59L10.3 9.45l-7.72 7.72c-.78.78-.78 2.05 0 2.83L4 21.41c.39.39.9.59 1.41.59.51 0 1.02-.2 1.41-.59l7.78-7.78 2.81-2.81c.8-.78.8-2.07 0-2.86zM5.41 20L4 18.59l7.72-7.72 1.47 1.35L5.41 20z\"/>\n",
              "  </svg>\n",
              "      </button>\n",
              "      \n",
              "  <style>\n",
              "    .colab-df-container {\n",
              "      display:flex;\n",
              "      flex-wrap:wrap;\n",
              "      gap: 12px;\n",
              "    }\n",
              "\n",
              "    .colab-df-convert {\n",
              "      background-color: #E8F0FE;\n",
              "      border: none;\n",
              "      border-radius: 50%;\n",
              "      cursor: pointer;\n",
              "      display: none;\n",
              "      fill: #1967D2;\n",
              "      height: 32px;\n",
              "      padding: 0 0 0 0;\n",
              "      width: 32px;\n",
              "    }\n",
              "\n",
              "    .colab-df-convert:hover {\n",
              "      background-color: #E2EBFA;\n",
              "      box-shadow: 0px 1px 2px rgba(60, 64, 67, 0.3), 0px 1px 3px 1px rgba(60, 64, 67, 0.15);\n",
              "      fill: #174EA6;\n",
              "    }\n",
              "\n",
              "    [theme=dark] .colab-df-convert {\n",
              "      background-color: #3B4455;\n",
              "      fill: #D2E3FC;\n",
              "    }\n",
              "\n",
              "    [theme=dark] .colab-df-convert:hover {\n",
              "      background-color: #434B5C;\n",
              "      box-shadow: 0px 1px 3px 1px rgba(0, 0, 0, 0.15);\n",
              "      filter: drop-shadow(0px 1px 2px rgba(0, 0, 0, 0.3));\n",
              "      fill: #FFFFFF;\n",
              "    }\n",
              "  </style>\n",
              "\n",
              "      <script>\n",
              "        const buttonEl =\n",
              "          document.querySelector('#df-901d50a7-7f21-4073-a1b6-690a7cffcb30 button.colab-df-convert');\n",
              "        buttonEl.style.display =\n",
              "          google.colab.kernel.accessAllowed ? 'block' : 'none';\n",
              "\n",
              "        async function convertToInteractive(key) {\n",
              "          const element = document.querySelector('#df-901d50a7-7f21-4073-a1b6-690a7cffcb30');\n",
              "          const dataTable =\n",
              "            await google.colab.kernel.invokeFunction('convertToInteractive',\n",
              "                                                     [key], {});\n",
              "          if (!dataTable) return;\n",
              "\n",
              "          const docLinkHtml = 'Like what you see? Visit the ' +\n",
              "            '<a target=\"_blank\" href=https://colab.research.google.com/notebooks/data_table.ipynb>data table notebook</a>'\n",
              "            + ' to learn more about interactive tables.';\n",
              "          element.innerHTML = '';\n",
              "          dataTable['output_type'] = 'display_data';\n",
              "          await google.colab.output.renderOutput(dataTable, element);\n",
              "          const docLink = document.createElement('div');\n",
              "          docLink.innerHTML = docLinkHtml;\n",
              "          element.appendChild(docLink);\n",
              "        }\n",
              "      </script>\n",
              "    </div>\n",
              "  </div>\n",
              "  "
            ]
          },
          "metadata": {},
          "execution_count": 30
        }
      ]
    },
    {
      "cell_type": "code",
      "source": [
        "# mostrar bairros que possuem mais imóveis \n",
        "df['neighbourhood'].value_counts()"
      ],
      "metadata": {
        "colab": {
          "base_uri": "https://localhost:8080/"
        },
        "id": "-3OecPNme_qT",
        "outputId": "32147b54-b815-4810-a75c-1097839b7fd5"
      },
      "execution_count": null,
      "outputs": [
        {
          "output_type": "execute_result",
          "data": {
            "text/plain": [
              "Hollywood               1580\n",
              "Venice                  1567\n",
              "Long Beach              1304\n",
              "Santa Monica            1099\n",
              "Downtown                 977\n",
              "                        ... \n",
              "Chatsworth Reservoir       1\n",
              "Elizabeth Lake             1\n",
              "Leona Valley               1\n",
              "South Diamond Bar          1\n",
              "Bradbury                   1\n",
              "Name: neighbourhood, Length: 266, dtype: int64"
            ]
          },
          "metadata": {},
          "execution_count": 31
        }
      ]
    },
    {
      "cell_type": "markdown",
      "source": [
        "\n",
        "\n",
        "<img alt=\"Los Angeles\" width=\"100%\" src=\"https://www.visiteosusa.com.br/sites/default/files/styles/hero_xl_1600x700/public/images/hero_media_image/2016-10/HERO%201_LosAngeles_EDITORIAL_shutterstock_334078379_CROP_Web72DPI.jpg?itok=0NszYjnl\">"
      ],
      "metadata": {
        "id": "4LkkCPXlJ0pY"
      }
    },
    {
      "cell_type": "code",
      "source": [
        "# mostrar Proprietários que possuem mais imóveis\n",
        "df['host_id'].value_counts()"
      ],
      "metadata": {
        "colab": {
          "base_uri": "https://localhost:8080/"
        },
        "id": "Ny9qGrsJfK1q",
        "outputId": "91142853-a644-490e-dd28-63da7ca2112a"
      },
      "execution_count": null,
      "outputs": [
        {
          "output_type": "execute_result",
          "data": {
            "text/plain": [
              "107434423    375\n",
              "359066913    344\n",
              "144214204    256\n",
              "48005494     135\n",
              "101537031    126\n",
              "            ... \n",
              "108096133      1\n",
              "6799844        1\n",
              "153471685      1\n",
              "122770659      1\n",
              "10200798       1\n",
              "Name: host_id, Length: 18475, dtype: int64"
            ]
          },
          "metadata": {},
          "execution_count": 32
        }
      ]
    },
    {
      "cell_type": "code",
      "source": [
        "# ver quantidade de imóveis do Proprietário\n",
        "print(df[df.host_id == 107434423].shape)\n",
        "\n",
        "# ver as entradas do Proprietário\n",
        "df[df.host_id == 107434423][:5]"
      ],
      "metadata": {
        "colab": {
          "base_uri": "https://localhost:8080/",
          "height": 774
        },
        "id": "wcjTEzbofUjq",
        "outputId": "63064ee6-8f62-44c0-9479-dac281780e9b"
      },
      "execution_count": null,
      "outputs": [
        {
          "output_type": "stream",
          "name": "stdout",
          "text": [
            "(375, 18)\n"
          ]
        },
        {
          "output_type": "execute_result",
          "data": {
            "text/plain": [
              "             id                                               name    host_id  \\\n",
              "13581  29499586  Spacious Downtown 1BR w/ Doorman, nr. Disney H...  107434423   \n",
              "13668  29670430  Sleek Marina Del Rey 2BR w/ Gym, near Venice B...  107434423   \n",
              "13669  29670960  Airy 2BR Loft Marina Del Rey, w/ Spa, near Ven...  107434423   \n",
              "13769  29848494  1BR West Hollywood w/ Patio off Santa Monica B...  107434423   \n",
              "14050  30390930  Heart of WeHo 1BR w Pool + Gym walk to Sunset ...  107434423   \n",
              "\n",
              "        host_name  neighbourhood_group   neighbourhood  latitude  longitude  \\\n",
              "13581  Blueground  City of Los Angeles        Downtown  34.05470 -118.25210   \n",
              "13668  Blueground  City of Los Angeles         Del Rey  33.98856 -118.43986   \n",
              "13669  Blueground  City of Los Angeles          Venice  33.98648 -118.44706   \n",
              "13769  Blueground         Other Cities  West Hollywood  34.08876 -118.38152   \n",
              "14050  Blueground         Other Cities  West Hollywood  34.08863 -118.38292   \n",
              "\n",
              "             room_type  price  minimum_nights  number_of_reviews last_review  \\\n",
              "13581  Entire home/apt    165              30                  0         NaN   \n",
              "13668  Entire home/apt    223              30                  2  2020-08-05   \n",
              "13669  Entire home/apt    228              30                  4  2020-06-22   \n",
              "13769  Entire home/apt    167              30                  1  2019-01-24   \n",
              "14050  Entire home/apt    164              30                  2  2021-04-17   \n",
              "\n",
              "       reviews_per_month  calculated_host_listings_count  availability_365  \\\n",
              "13581                NaN                             375               281   \n",
              "13668               0.07                             375               307   \n",
              "13669               0.13                             375               296   \n",
              "13769               0.03                             375               280   \n",
              "14050               0.06                             375               309   \n",
              "\n",
              "       number_of_reviews_ltm license  \n",
              "13581                      0     NaN  \n",
              "13668                      0     NaN  \n",
              "13669                      0     NaN  \n",
              "13769                      0     NaN  \n",
              "14050                      1     NaN  "
            ],
            "text/html": [
              "\n",
              "  <div id=\"df-44a8522b-7a8a-46ca-a8e5-ce5de10d043e\">\n",
              "    <div class=\"colab-df-container\">\n",
              "      <div>\n",
              "<style scoped>\n",
              "    .dataframe tbody tr th:only-of-type {\n",
              "        vertical-align: middle;\n",
              "    }\n",
              "\n",
              "    .dataframe tbody tr th {\n",
              "        vertical-align: top;\n",
              "    }\n",
              "\n",
              "    .dataframe thead th {\n",
              "        text-align: right;\n",
              "    }\n",
              "</style>\n",
              "<table border=\"1\" class=\"dataframe\">\n",
              "  <thead>\n",
              "    <tr style=\"text-align: right;\">\n",
              "      <th></th>\n",
              "      <th>id</th>\n",
              "      <th>name</th>\n",
              "      <th>host_id</th>\n",
              "      <th>host_name</th>\n",
              "      <th>neighbourhood_group</th>\n",
              "      <th>neighbourhood</th>\n",
              "      <th>latitude</th>\n",
              "      <th>longitude</th>\n",
              "      <th>room_type</th>\n",
              "      <th>price</th>\n",
              "      <th>minimum_nights</th>\n",
              "      <th>number_of_reviews</th>\n",
              "      <th>last_review</th>\n",
              "      <th>reviews_per_month</th>\n",
              "      <th>calculated_host_listings_count</th>\n",
              "      <th>availability_365</th>\n",
              "      <th>number_of_reviews_ltm</th>\n",
              "      <th>license</th>\n",
              "    </tr>\n",
              "  </thead>\n",
              "  <tbody>\n",
              "    <tr>\n",
              "      <th>13581</th>\n",
              "      <td>29499586</td>\n",
              "      <td>Spacious Downtown 1BR w/ Doorman, nr. Disney H...</td>\n",
              "      <td>107434423</td>\n",
              "      <td>Blueground</td>\n",
              "      <td>City of Los Angeles</td>\n",
              "      <td>Downtown</td>\n",
              "      <td>34.05470</td>\n",
              "      <td>-118.25210</td>\n",
              "      <td>Entire home/apt</td>\n",
              "      <td>165</td>\n",
              "      <td>30</td>\n",
              "      <td>0</td>\n",
              "      <td>NaN</td>\n",
              "      <td>NaN</td>\n",
              "      <td>375</td>\n",
              "      <td>281</td>\n",
              "      <td>0</td>\n",
              "      <td>NaN</td>\n",
              "    </tr>\n",
              "    <tr>\n",
              "      <th>13668</th>\n",
              "      <td>29670430</td>\n",
              "      <td>Sleek Marina Del Rey 2BR w/ Gym, near Venice B...</td>\n",
              "      <td>107434423</td>\n",
              "      <td>Blueground</td>\n",
              "      <td>City of Los Angeles</td>\n",
              "      <td>Del Rey</td>\n",
              "      <td>33.98856</td>\n",
              "      <td>-118.43986</td>\n",
              "      <td>Entire home/apt</td>\n",
              "      <td>223</td>\n",
              "      <td>30</td>\n",
              "      <td>2</td>\n",
              "      <td>2020-08-05</td>\n",
              "      <td>0.07</td>\n",
              "      <td>375</td>\n",
              "      <td>307</td>\n",
              "      <td>0</td>\n",
              "      <td>NaN</td>\n",
              "    </tr>\n",
              "    <tr>\n",
              "      <th>13669</th>\n",
              "      <td>29670960</td>\n",
              "      <td>Airy 2BR Loft Marina Del Rey, w/ Spa, near Ven...</td>\n",
              "      <td>107434423</td>\n",
              "      <td>Blueground</td>\n",
              "      <td>City of Los Angeles</td>\n",
              "      <td>Venice</td>\n",
              "      <td>33.98648</td>\n",
              "      <td>-118.44706</td>\n",
              "      <td>Entire home/apt</td>\n",
              "      <td>228</td>\n",
              "      <td>30</td>\n",
              "      <td>4</td>\n",
              "      <td>2020-06-22</td>\n",
              "      <td>0.13</td>\n",
              "      <td>375</td>\n",
              "      <td>296</td>\n",
              "      <td>0</td>\n",
              "      <td>NaN</td>\n",
              "    </tr>\n",
              "    <tr>\n",
              "      <th>13769</th>\n",
              "      <td>29848494</td>\n",
              "      <td>1BR West Hollywood w/ Patio off Santa Monica B...</td>\n",
              "      <td>107434423</td>\n",
              "      <td>Blueground</td>\n",
              "      <td>Other Cities</td>\n",
              "      <td>West Hollywood</td>\n",
              "      <td>34.08876</td>\n",
              "      <td>-118.38152</td>\n",
              "      <td>Entire home/apt</td>\n",
              "      <td>167</td>\n",
              "      <td>30</td>\n",
              "      <td>1</td>\n",
              "      <td>2019-01-24</td>\n",
              "      <td>0.03</td>\n",
              "      <td>375</td>\n",
              "      <td>280</td>\n",
              "      <td>0</td>\n",
              "      <td>NaN</td>\n",
              "    </tr>\n",
              "    <tr>\n",
              "      <th>14050</th>\n",
              "      <td>30390930</td>\n",
              "      <td>Heart of WeHo 1BR w Pool + Gym walk to Sunset ...</td>\n",
              "      <td>107434423</td>\n",
              "      <td>Blueground</td>\n",
              "      <td>Other Cities</td>\n",
              "      <td>West Hollywood</td>\n",
              "      <td>34.08863</td>\n",
              "      <td>-118.38292</td>\n",
              "      <td>Entire home/apt</td>\n",
              "      <td>164</td>\n",
              "      <td>30</td>\n",
              "      <td>2</td>\n",
              "      <td>2021-04-17</td>\n",
              "      <td>0.06</td>\n",
              "      <td>375</td>\n",
              "      <td>309</td>\n",
              "      <td>1</td>\n",
              "      <td>NaN</td>\n",
              "    </tr>\n",
              "  </tbody>\n",
              "</table>\n",
              "</div>\n",
              "      <button class=\"colab-df-convert\" onclick=\"convertToInteractive('df-44a8522b-7a8a-46ca-a8e5-ce5de10d043e')\"\n",
              "              title=\"Convert this dataframe to an interactive table.\"\n",
              "              style=\"display:none;\">\n",
              "        \n",
              "  <svg xmlns=\"http://www.w3.org/2000/svg\" height=\"24px\"viewBox=\"0 0 24 24\"\n",
              "       width=\"24px\">\n",
              "    <path d=\"M0 0h24v24H0V0z\" fill=\"none\"/>\n",
              "    <path d=\"M18.56 5.44l.94 2.06.94-2.06 2.06-.94-2.06-.94-.94-2.06-.94 2.06-2.06.94zm-11 1L8.5 8.5l.94-2.06 2.06-.94-2.06-.94L8.5 2.5l-.94 2.06-2.06.94zm10 10l.94 2.06.94-2.06 2.06-.94-2.06-.94-.94-2.06-.94 2.06-2.06.94z\"/><path d=\"M17.41 7.96l-1.37-1.37c-.4-.4-.92-.59-1.43-.59-.52 0-1.04.2-1.43.59L10.3 9.45l-7.72 7.72c-.78.78-.78 2.05 0 2.83L4 21.41c.39.39.9.59 1.41.59.51 0 1.02-.2 1.41-.59l7.78-7.78 2.81-2.81c.8-.78.8-2.07 0-2.86zM5.41 20L4 18.59l7.72-7.72 1.47 1.35L5.41 20z\"/>\n",
              "  </svg>\n",
              "      </button>\n",
              "      \n",
              "  <style>\n",
              "    .colab-df-container {\n",
              "      display:flex;\n",
              "      flex-wrap:wrap;\n",
              "      gap: 12px;\n",
              "    }\n",
              "\n",
              "    .colab-df-convert {\n",
              "      background-color: #E8F0FE;\n",
              "      border: none;\n",
              "      border-radius: 50%;\n",
              "      cursor: pointer;\n",
              "      display: none;\n",
              "      fill: #1967D2;\n",
              "      height: 32px;\n",
              "      padding: 0 0 0 0;\n",
              "      width: 32px;\n",
              "    }\n",
              "\n",
              "    .colab-df-convert:hover {\n",
              "      background-color: #E2EBFA;\n",
              "      box-shadow: 0px 1px 2px rgba(60, 64, 67, 0.3), 0px 1px 3px 1px rgba(60, 64, 67, 0.15);\n",
              "      fill: #174EA6;\n",
              "    }\n",
              "\n",
              "    [theme=dark] .colab-df-convert {\n",
              "      background-color: #3B4455;\n",
              "      fill: #D2E3FC;\n",
              "    }\n",
              "\n",
              "    [theme=dark] .colab-df-convert:hover {\n",
              "      background-color: #434B5C;\n",
              "      box-shadow: 0px 1px 3px 1px rgba(0, 0, 0, 0.15);\n",
              "      filter: drop-shadow(0px 1px 2px rgba(0, 0, 0, 0.3));\n",
              "      fill: #FFFFFF;\n",
              "    }\n",
              "  </style>\n",
              "\n",
              "      <script>\n",
              "        const buttonEl =\n",
              "          document.querySelector('#df-44a8522b-7a8a-46ca-a8e5-ce5de10d043e button.colab-df-convert');\n",
              "        buttonEl.style.display =\n",
              "          google.colab.kernel.accessAllowed ? 'block' : 'none';\n",
              "\n",
              "        async function convertToInteractive(key) {\n",
              "          const element = document.querySelector('#df-44a8522b-7a8a-46ca-a8e5-ce5de10d043e');\n",
              "          const dataTable =\n",
              "            await google.colab.kernel.invokeFunction('convertToInteractive',\n",
              "                                                     [key], {});\n",
              "          if (!dataTable) return;\n",
              "\n",
              "          const docLinkHtml = 'Like what you see? Visit the ' +\n",
              "            '<a target=\"_blank\" href=https://colab.research.google.com/notebooks/data_table.ipynb>data table notebook</a>'\n",
              "            + ' to learn more about interactive tables.';\n",
              "          element.innerHTML = '';\n",
              "          dataTable['output_type'] = 'display_data';\n",
              "          await google.colab.output.renderOutput(dataTable, element);\n",
              "          const docLink = document.createElement('div');\n",
              "          docLink.innerHTML = docLinkHtml;\n",
              "          element.appendChild(docLink);\n",
              "        }\n",
              "      </script>\n",
              "    </div>\n",
              "  </div>\n",
              "  "
            ]
          },
          "metadata": {},
          "execution_count": 33
        }
      ]
    },
    {
      "cell_type": "markdown",
      "source": [
        "Como são fornecidas as Latitudes e Longitudes para os imóveis, é possível plotar cada ponto. Para isso, considera-se `x=longitude` e `y=latitude`."
      ],
      "metadata": {
        "id": "4BM2gRRshVZ3"
      }
    },
    {
      "cell_type": "code",
      "metadata": {
        "id": "UxVJqJ_3W59I",
        "colab": {
          "base_uri": "https://localhost:8080/",
          "height": 476
        },
        "outputId": "85c2c114-0d4a-41de-90d9-8c55f40a7f81"
      },
      "source": [
        "# plotar os imóveis pela latitude-longitude\n",
        "df_clean.plot(kind=\"scatter\", x='longitude', y='latitude', alpha=0.4, c=df_clean['price'], s=8,\n",
        "              cmap=plt.get_cmap('jet'), figsize=(12,8));"
      ],
      "execution_count": null,
      "outputs": [
        {
          "output_type": "display_data",
          "data": {
            "text/plain": [
              "<Figure size 864x576 with 2 Axes>"
            ],
            "image/png": "[encoded data removed]"
          },
          "metadata": {
            "needs_background": "light"
          }
        }
      ]
    },
    {
      "cell_type": "markdown",
      "source": [
        "Podemos verificar que a relação entre o gráfico de espalhamento dos imóveis e o mapa turístico, fica compreensível que a concentração dos imóveis em LA, ficam em bairros da **região oeste**, onde possuem uma grande variedade de pontos turísticos, como: ***Long Beach, Venice Beach***, **Píer de Santa Monica** e o letreiro de ***Hollywood***. \n",
        "\n",
        "E, conforme a projeção do mapa, onde as cores mais quentes indicam preços mais altos e cores mais frias preços mais baixos. Podemos informar que o bairro de ***Malibu*** é um dos mais elevados. "
      ],
      "metadata": {
        "id": "pYNr1pLuscqm"
      }
    },
    {
      "cell_type": "markdown",
      "source": [
        "\n",
        "\n",
        "<img alt=\"Los Angeles\" width=\"100%\" src=\"https://capturetheatlas.com/wp-content/uploads/2020/01/Los-Angeles-tourist-map.jpg.webp\">\n"
      ],
      "metadata": {
        "id": "BqRGmypXryOo"
      }
    },
    {
      "cell_type": "markdown",
      "metadata": {
        "id": "vTneAMRUYvr1"
      },
      "source": [
        "### **Q8. Qual é a média do mínimo de noites para aluguel (minimum_nights)?**\n",
        "\n",
        "Pela distribuição do histograma, é possível verificar indícios da presença de *outliers*. na variável  `minimum_nights`.\n",
        "\n",
        "Os valores não seguem uma distruição, e distorcem toda a representação gráfica. Para confirmar, há duas maneiras rápidas que auxiliam a detecção de *outliers*. Da mesma forma como achamos na variável `price`. São elas:\n",
        "\n",
        "* Resumo estatístico por meio do método `describe()`\n",
        "* Plotar `boxplots` para a variável."
      ]
    },
    {
      "cell_type": "code",
      "metadata": {
        "id": "_VzNhrEgY82N",
        "colab": {
          "base_uri": "https://localhost:8080/",
          "height": 300
        },
        "outputId": "8f035510-b365-4c91-9a7b-46c3fff14f43"
      },
      "source": [
        "# ver a média da coluna `minimum_nights``\n",
        "df[['minimum_nights']].describe()"
      ],
      "execution_count": null,
      "outputs": [
        {
          "output_type": "execute_result",
          "data": {
            "text/plain": [
              "       minimum_nights\n",
              "count    33329.000000\n",
              "mean        20.004591\n",
              "std         32.951251\n",
              "min          1.000000\n",
              "25%          2.000000\n",
              "50%         30.000000\n",
              "75%         30.000000\n",
              "max       1124.000000"
            ],
            "text/html": [
              "\n",
              "  <div id=\"df-add795a9-e685-4ea7-9662-a815f3d43dd6\">\n",
              "    <div class=\"colab-df-container\">\n",
              "      <div>\n",
              "<style scoped>\n",
              "    .dataframe tbody tr th:only-of-type {\n",
              "        vertical-align: middle;\n",
              "    }\n",
              "\n",
              "    .dataframe tbody tr th {\n",
              "        vertical-align: top;\n",
              "    }\n",
              "\n",
              "    .dataframe thead th {\n",
              "        text-align: right;\n",
              "    }\n",
              "</style>\n",
              "<table border=\"1\" class=\"dataframe\">\n",
              "  <thead>\n",
              "    <tr style=\"text-align: right;\">\n",
              "      <th></th>\n",
              "      <th>minimum_nights</th>\n",
              "    </tr>\n",
              "  </thead>\n",
              "  <tbody>\n",
              "    <tr>\n",
              "      <th>count</th>\n",
              "      <td>33329.000000</td>\n",
              "    </tr>\n",
              "    <tr>\n",
              "      <th>mean</th>\n",
              "      <td>20.004591</td>\n",
              "    </tr>\n",
              "    <tr>\n",
              "      <th>std</th>\n",
              "      <td>32.951251</td>\n",
              "    </tr>\n",
              "    <tr>\n",
              "      <th>min</th>\n",
              "      <td>1.000000</td>\n",
              "    </tr>\n",
              "    <tr>\n",
              "      <th>25%</th>\n",
              "      <td>2.000000</td>\n",
              "    </tr>\n",
              "    <tr>\n",
              "      <th>50%</th>\n",
              "      <td>30.000000</td>\n",
              "    </tr>\n",
              "    <tr>\n",
              "      <th>75%</th>\n",
              "      <td>30.000000</td>\n",
              "    </tr>\n",
              "    <tr>\n",
              "      <th>max</th>\n",
              "      <td>1124.000000</td>\n",
              "    </tr>\n",
              "  </tbody>\n",
              "</table>\n",
              "</div>\n",
              "      <button class=\"colab-df-convert\" onclick=\"convertToInteractive('df-add795a9-e685-4ea7-9662-a815f3d43dd6')\"\n",
              "              title=\"Convert this dataframe to an interactive table.\"\n",
              "              style=\"display:none;\">\n",
              "        \n",
              "  <svg xmlns=\"http://www.w3.org/2000/svg\" height=\"24px\"viewBox=\"0 0 24 24\"\n",
              "       width=\"24px\">\n",
              "    <path d=\"M0 0h24v24H0V0z\" fill=\"none\"/>\n",
              "    <path d=\"M18.56 5.44l.94 2.06.94-2.06 2.06-.94-2.06-.94-.94-2.06-.94 2.06-2.06.94zm-11 1L8.5 8.5l.94-2.06 2.06-.94-2.06-.94L8.5 2.5l-.94 2.06-2.06.94zm10 10l.94 2.06.94-2.06 2.06-.94-2.06-.94-.94-2.06-.94 2.06-2.06.94z\"/><path d=\"M17.41 7.96l-1.37-1.37c-.4-.4-.92-.59-1.43-.59-.52 0-1.04.2-1.43.59L10.3 9.45l-7.72 7.72c-.78.78-.78 2.05 0 2.83L4 21.41c.39.39.9.59 1.41.59.51 0 1.02-.2 1.41-.59l7.78-7.78 2.81-2.81c.8-.78.8-2.07 0-2.86zM5.41 20L4 18.59l7.72-7.72 1.47 1.35L5.41 20z\"/>\n",
              "  </svg>\n",
              "      </button>\n",
              "      \n",
              "  <style>\n",
              "    .colab-df-container {\n",
              "      display:flex;\n",
              "      flex-wrap:wrap;\n",
              "      gap: 12px;\n",
              "    }\n",
              "\n",
              "    .colab-df-convert {\n",
              "      background-color: #E8F0FE;\n",
              "      border: none;\n",
              "      border-radius: 50%;\n",
              "      cursor: pointer;\n",
              "      display: none;\n",
              "      fill: #1967D2;\n",
              "      height: 32px;\n",
              "      padding: 0 0 0 0;\n",
              "      width: 32px;\n",
              "    }\n",
              "\n",
              "    .colab-df-convert:hover {\n",
              "      background-color: #E2EBFA;\n",
              "      box-shadow: 0px 1px 2px rgba(60, 64, 67, 0.3), 0px 1px 3px 1px rgba(60, 64, 67, 0.15);\n",
              "      fill: #174EA6;\n",
              "    }\n",
              "\n",
              "    [theme=dark] .colab-df-convert {\n",
              "      background-color: #3B4455;\n",
              "      fill: #D2E3FC;\n",
              "    }\n",
              "\n",
              "    [theme=dark] .colab-df-convert:hover {\n",
              "      background-color: #434B5C;\n",
              "      box-shadow: 0px 1px 3px 1px rgba(0, 0, 0, 0.15);\n",
              "      filter: drop-shadow(0px 1px 2px rgba(0, 0, 0, 0.3));\n",
              "      fill: #FFFFFF;\n",
              "    }\n",
              "  </style>\n",
              "\n",
              "      <script>\n",
              "        const buttonEl =\n",
              "          document.querySelector('#df-add795a9-e685-4ea7-9662-a815f3d43dd6 button.colab-df-convert');\n",
              "        buttonEl.style.display =\n",
              "          google.colab.kernel.accessAllowed ? 'block' : 'none';\n",
              "\n",
              "        async function convertToInteractive(key) {\n",
              "          const element = document.querySelector('#df-add795a9-e685-4ea7-9662-a815f3d43dd6');\n",
              "          const dataTable =\n",
              "            await google.colab.kernel.invokeFunction('convertToInteractive',\n",
              "                                                     [key], {});\n",
              "          if (!dataTable) return;\n",
              "\n",
              "          const docLinkHtml = 'Like what you see? Visit the ' +\n",
              "            '<a target=\"_blank\" href=https://colab.research.google.com/notebooks/data_table.ipynb>data table notebook</a>'\n",
              "            + ' to learn more about interactive tables.';\n",
              "          element.innerHTML = '';\n",
              "          dataTable['output_type'] = 'display_data';\n",
              "          await google.colab.output.renderOutput(dataTable, element);\n",
              "          const docLink = document.createElement('div');\n",
              "          docLink.innerHTML = docLinkHtml;\n",
              "          element.appendChild(docLink);\n",
              "        }\n",
              "      </script>\n",
              "    </div>\n",
              "  </div>\n",
              "  "
            ]
          },
          "metadata": {},
          "execution_count": 35
        }
      ]
    },
    {
      "cell_type": "markdown",
      "source": [
        "Olhando o resumo estatístico acima, podemos confirmar algumas hipóteses como:\n",
        "\n",
        "* A coluna `minimum_nights` possui 75% dos imóveis abaixo de 30 dias.\n",
        "* Em alguns casos, a quantidade mínima de noites (`minimum_nights`) está acima de 365 dias no ano.\n",
        "\n",
        "#### Boxplot para minimum_nights"
      ],
      "metadata": {
        "id": "4bmEvgBEsMWv"
      }
    },
    {
      "cell_type": "code",
      "source": [
        "# minimum_nights\n",
        "df.minimum_nights.plot(kind='box', vert=False, figsize=(15, 3))\n",
        "plt.show()\n",
        "\n",
        "# ver quantidade de valores acima de 60 dias para minimum_nights\n",
        "print(\"minimum_nights: valores acima de 60:\")\n",
        "print(\"{} entradas\".format(len(df[df.minimum_nights > 60])))\n",
        "print(\"{:.4f}%\".format((len(df[df.minimum_nights > 60]) / df.shape[0])*100))"
      ],
      "metadata": {
        "colab": {
          "base_uri": "https://localhost:8080/",
          "height": 263
        },
        "id": "gSTsOrN_tfDM",
        "outputId": "5eefee32-8b0a-4dc7-c267-894c6f6f85a7"
      },
      "execution_count": null,
      "outputs": [
        {
          "output_type": "display_data",
          "data": {
            "text/plain": [
              "<Figure size 1080x216 with 1 Axes>"
            ],
            "image/png": "[encoded data removed]"
          },
          "metadata": {
            "needs_background": "light"
          }
        },
        {
          "output_type": "stream",
          "name": "stdout",
          "text": [
            "minimum_nights: valores acima de 60:\n",
            "442 entradas\n",
            "1.3262%\n"
          ]
        }
      ]
    },
    {
      "cell_type": "code",
      "source": [
        "# minimum_nights\n",
        "df.minimum_nights.plot(kind='box', vert=False, figsize=(15, 3))\n",
        "plt.show()\n",
        "\n",
        "# ver quantidade de valores de 30 dias para minimum_nights\n",
        "print(\"minimum_nights: valores de 30:\")\n",
        "print(\"{} entradas\".format(len(df[df.minimum_nights == 30])))\n",
        "print(\"{:.4f}%\".format((len(df[df.minimum_nights == 30]) / df.shape[0])*100))"
      ],
      "metadata": {
        "colab": {
          "base_uri": "https://localhost:8080/",
          "height": 263
        },
        "id": "g1L2t8lTxzig",
        "outputId": "eb6b2ded-4a4f-4208-8f63-957698d8aedb"
      },
      "execution_count": null,
      "outputs": [
        {
          "output_type": "display_data",
          "data": {
            "text/plain": [
              "<Figure size 1080x216 with 1 Axes>"
            ],
            "image/png": "[encoded data removed]"
          },
          "metadata": {
            "needs_background": "light"
          }
        },
        {
          "output_type": "stream",
          "name": "stdout",
          "text": [
            "minimum_nights: valores de 30:\n",
            "14335 entradas\n",
            "43.0106%\n"
          ]
        }
      ]
    },
    {
      "cell_type": "code",
      "source": [
        "# minimum_nights\n",
        "df.minimum_nights.plot(kind='box', vert=False, figsize=(15, 3))\n",
        "plt.show()\n",
        "\n",
        "# ver quantidade de valores abaixo de 30 dias para minimum_nights\n",
        "print(\"minimum_nights: valores abaixo de 30:\")\n",
        "print(\"{} entradas\".format(len(df[df.minimum_nights < 30])))\n",
        "print(\"{:.4f}%\".format((len(df[df.minimum_nights < 30]) / df.shape[0])*100))"
      ],
      "metadata": {
        "colab": {
          "base_uri": "https://localhost:8080/",
          "height": 263
        },
        "id": "sTNlhQEyyPvx",
        "outputId": "470aa708-f02b-41a0-cd95-39a6f2eb2df2"
      },
      "execution_count": null,
      "outputs": [
        {
          "output_type": "display_data",
          "data": {
            "text/plain": [
              "<Figure size 1080x216 with 1 Axes>"
            ],
            "image/png": "[encoded data removed]"
          },
          "metadata": {
            "needs_background": "light"
          }
        },
        {
          "output_type": "stream",
          "name": "stdout",
          "text": [
            "minimum_nights: valores abaixo de 30:\n",
            "15419 entradas\n",
            "46.2630%\n"
          ]
        }
      ]
    },
    {
      "cell_type": "markdown",
      "source": [
        "#### Histogramas sem *outliers*\n",
        "\n",
        "Já que identificamos *outliers* na variável `minimum_nights`, vamos agora limpar o *DataFrame* dela e plotar novamente o histograma."
      ],
      "metadata": {
        "id": "dgTkeTvVt-ea"
      }
    },
    {
      "cell_type": "code",
      "source": [
        "# remover os *outliers* em um novo DataFrame\n",
        "df_clean = df.copy()\n",
        "df_clean.drop(df_clean[df_clean.minimum_nights > 60].index, axis=0, inplace=True)\n",
        "\n",
        "# plotar o histograma para as variáveis numéricas\n",
        "df_clean.hist(bins=20, figsize=(20,15));"
      ],
      "metadata": {
        "colab": {
          "base_uri": "https://localhost:8080/",
          "height": 879
        },
        "id": "n7uNKrEauKlG",
        "outputId": "ceee412d-ac7c-4136-8c1d-1cce69329c81"
      },
      "execution_count": null,
      "outputs": [
        {
          "output_type": "display_data",
          "data": {
            "text/plain": [
              "<Figure size 1440x1080 with 12 Axes>"
            ],
            "image/png": "[encoded data removed]"
          },
          "metadata": {
            "needs_background": "light"
          }
        }
      ]
    },
    {
      "cell_type": "markdown",
      "source": [
        "Após a realização da extração dos *outliers* da variável `minimum_nights`, verificamos que a média do minímo de noites para aluguel são 17 dias."
      ],
      "metadata": {
        "id": "Ed0rkvKO9ErS"
      }
    },
    {
      "cell_type": "code",
      "source": [
        "df_clean['minimum_nights'].mean()"
      ],
      "metadata": {
        "colab": {
          "base_uri": "https://localhost:8080/"
        },
        "id": "NOCNao01-NKw",
        "outputId": "f96b6bc8-ebe5-41c2-aff1-0db15a5c8dd7"
      },
      "execution_count": null,
      "outputs": [
        {
          "output_type": "execute_result",
          "data": {
            "text/plain": [
              "17.670356067747136"
            ]
          },
          "metadata": {},
          "execution_count": 40
        }
      ]
    },
    {
      "cell_type": "code",
      "source": [
        "df_clean['minimum_nights'].describe()"
      ],
      "metadata": {
        "colab": {
          "base_uri": "https://localhost:8080/"
        },
        "id": "Y3p9L25k50xb",
        "outputId": "82880a88-77b7-455c-e731-8c34291d1539"
      },
      "execution_count": null,
      "outputs": [
        {
          "output_type": "execute_result",
          "data": {
            "text/plain": [
              "count    32887.000000\n",
              "mean        17.670356\n",
              "std         14.099033\n",
              "min          1.000000\n",
              "25%          2.000000\n",
              "50%         30.000000\n",
              "75%         30.000000\n",
              "max         60.000000\n",
              "Name: minimum_nights, dtype: float64"
            ]
          },
          "metadata": {},
          "execution_count": 41
        }
      ]
    },
    {
      "cell_type": "code",
      "source": [
        "# Boxplot para minimum nights\n",
        "df_clean.minimum_nights.plot(kind='box', figsize=(10, 10))\n",
        "plt.show()"
      ],
      "metadata": {
        "colab": {
          "base_uri": "https://localhost:8080/",
          "height": 592
        },
        "id": "4VPC7zZN-Zo3",
        "outputId": "efb82de7-4215-49da-9bb0-6ddf7f2c94f3"
      },
      "execution_count": null,
      "outputs": [
        {
          "output_type": "display_data",
          "data": {
            "text/plain": [
              "<Figure size 720x720 with 1 Axes>"
            ],
            "image/png": "[encoded data removed]"
          },
          "metadata": {
            "needs_background": "light"
          }
        }
      ]
    },
    {
      "cell_type": "markdown",
      "metadata": {
        "id": "GkvAg623RjoR"
      },
      "source": [
        "## Conclusões\n"
      ]
    },
    {
      "cell_type": "markdown",
      "metadata": {
        "id": "rbZ3Hsy9Ypw8"
      },
      "source": [
        "Foi realizada apenas uma análise superficial na base de dados do Airbnb, porém já se percebeu que existem *outliers* em algumas das variáveis.\n",
        "\n",
        "Também se notou que em algumas localidades há poucos imóveis, o que pode distorcer as informações estatísticas de alguns atributos. Como, por exemplo, o preço médio do bairro de *Bradbury* ser o mais elevado, pois possui somente um imóvel disponível. Em relação aos bairros que possuem mais imóveis, o top 5 em *Los Angeles*, são: ***Hollywood, Venice, Long Beach***, **Santa Monica** e ***Downtown***. \n",
        "\n",
        "Além disso, verificamos também a grande quantidade de imóveis que exigem um mínimo de 30 noites, equivalente a **43% dos imóveis** e que o tipo de imóvel ***Entire home/apt*** com quase **70% das escolhas das pessoas**. Tendência dos usuários em alugar Apartamento/Casas inteiras por longos períodos configurando quase um modelo de aluguel convencional  e não estadias curtas de fim de semana típica de turistas casuais.\n",
        "\n",
        "Por fim, após a realização da extração de *outliers*, certificamos que houve uma redução da média dos preços de 262 para ***$ 207*** e da média da quantidade minima de noites de 20 para **17 dias**.\n",
        "\n",
        "Cabe lembrar que este *dataset* é uma versão resumida, ideal apenas para uma abordagem inicial. Recomenda-se que seja usado, em uma próxima análise exploratória, o conjunto de dados completos, com os 106 atributos disponíveis."
      ]
    },
    {
      "cell_type": "markdown",
      "source": [
        "\n",
        "\n",
        "<img alt=\"Los Angeles\" width=\"100%\" src=\"https://www.visiteosusa.com.br/sites/default/files/styles/hero_xl_1600x700/public/images/hero_media_image/2017-01/Getty_596330521_SantaMonicaPierVeniceBeach_Web72DPI_0.jpg?itok=y8XVAjZk\">"
      ],
      "metadata": {
        "id": "TdvdYmwLKaoW"
      }
    }
  ]
}